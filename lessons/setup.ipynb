{
 "cells": [
  {
   "cell_type": "markdown",
   "metadata": {},
   "source": [
    "# Probabilistic Programming 0: Check installation\n",
    "\n",
    "This notebook lets you test out your installation of Jupyter and Julia. It will also automatically download all the packages you need for the course, precompile them and check if they run correctly."
   ]
  },
  {
   "cell_type": "code",
   "execution_count": 1,
   "metadata": {},
   "outputs": [],
   "source": [
    "# Check correct Julia version (will throw error if false)\n",
    "@assert VERSION > v\"1.9\""
   ]
  },
  {
   "cell_type": "code",
   "execution_count": 2,
   "metadata": {},
   "outputs": [
    {
     "name": "stderr",
     "output_type": "stream",
     "text": [
      "\u001b[32m\u001b[1m  Activating\u001b[22m\u001b[39m project at `~/git/bertdv/BMLIP/lessons`\n"
     ]
    },
    {
     "name": "stdout",
     "output_type": "stream",
     "text": [
      "\u001b[32m\u001b[1mStatus\u001b[22m\u001b[39m `~/git/bertdv/BMLIP/lessons/Project.toml`\n",
      " \u001b[90m [336ed68f] \u001b[39mCSV v0.10.4\n",
      " \u001b[90m [35d6a980] \u001b[39mColorSchemes v3.19.0\n",
      " \u001b[90m [a93c6f00] \u001b[39mDataFrames v1.4.1\n",
      " \u001b[90m [31c24e10] \u001b[39mDistributions v0.25.76\n",
      " \u001b[90m [9fc3f58a] \u001b[39mForneyLab v0.12.0\n",
      " \u001b[90m [b3f8163a] \u001b[39mGraphPPL v2.3.1\n",
      " \u001b[90m [19dc6840] \u001b[39mHCubature v1.5.0\n",
      " \u001b[90m [4138dd39] \u001b[39mJLD v0.13.2\n",
      " \u001b[90m [b964fa9f] \u001b[39mLaTeXStrings v1.3.0\n",
      " \u001b[90m [429524aa] \u001b[39mOptim v1.7.3\n",
      " \u001b[90m [90014a1f] \u001b[39mPDMats v0.11.16\n",
      " \u001b[90m [91a5bcdd] \u001b[39mPlots v1.35.3\n",
      " \u001b[90m [92933f4c] \u001b[39mProgressMeter v1.7.2\n",
      " \u001b[90m [438e738f] \u001b[39mPyCall v1.94.1\n",
      " \u001b[90m [d330b81b] \u001b[39mPyPlot v2.11.0\n",
      " \u001b[90m [a194aa59] \u001b[39mReactiveMP v2.5.1\n",
      " \u001b[90m [df971d30] \u001b[39mRocket v1.5.0\n",
      " \u001b[90m [276daf66] \u001b[39mSpecialFunctions v2.1.7\n",
      " \u001b[90m [2913bbd2] \u001b[39mStatsBase v0.33.21\n",
      " \u001b[90m [37e2e46d] \u001b[39mLinearAlgebra\n",
      " \u001b[90m [9a3f8284] \u001b[39mRandom\n"
     ]
    }
   ],
   "source": [
    "using Pkg\n",
    "Pkg.activate(\".\")\n",
    "Pkg.instantiate()\n",
    "Pkg.status()"
   ]
  },
  {
   "cell_type": "code",
   "execution_count": 3,
   "metadata": {},
   "outputs": [],
   "source": [
    "# Check correct Python version (for Plots)\n",
    "using PyCall\n",
    "sys = pyimport(\"sys\")\n",
    "@assert sys.version_info[1] == 3\n",
    "@assert sys.version_info[2] == 9"
   ]
  }
 ],
 "metadata": {
  "@webio": {
   "lastCommId": null,
   "lastKernelId": null
  },
  "kernelspec": {
   "display_name": "Julia 1.9.3",
   "language": "julia",
   "name": "julia-1.9"
  },
  "language_info": {
   "file_extension": ".jl",
   "mimetype": "application/julia",
   "name": "julia",
   "version": "1.9.3"
  }
 },
 "nbformat": 4,
 "nbformat_minor": 4
}
