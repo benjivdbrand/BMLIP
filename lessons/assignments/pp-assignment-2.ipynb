{
 "cells": [
  {
   "cell_type": "markdown",
   "metadata": {},
   "source": [
    "Make sure everything runs as expected before you submit your notebook. First, **restart the kernel** (Kernel$\\rightarrow$Restart) and then **run all cells** (Cell$\\rightarrow$Run All).\n",
    "\n",
    "Make sure you fill in any place that says `YOUR CODE HERE` or \"YOUR ANSWER HERE\", as well as your name and student ID below:"
   ]
  },
  {
   "cell_type": "code",
   "execution_count": null,
   "metadata": {},
   "outputs": [],
   "source": [
    "NAME = \"\"\n",
    "STUDENT_ID = \"\""
   ]
  },
  {
   "cell_type": "markdown",
   "metadata": {},
   "source": [
    "---"
   ]
  },
  {
   "cell_type": "markdown",
   "metadata": {
    "deletable": false,
    "editable": false,
    "nbgrader": {
     "cell_type": "markdown",
     "checksum": "1f96cb1ddd4ec41e0777ccc7af3cf26b",
     "grade": false,
     "grade_id": "cell-c62d4f7d1625b7a0",
     "locked": true,
     "schema_version": 3,
     "solution": false,
     "task": false
    }
   },
   "source": [
    "# [5SSD0] Probabilistic Programming - Assignment 2\n",
    "\n",
    "Year: 2023-2024\n",
    "\n",
    "In this assignment, we will go through the Bayesian model design cycle:\n",
    "\n",
    " <img src=\"figures/modelling-procedure.png\" alt=\"\" width=\"600\"> \n",
    "\n",
    "In the second part of the assignment, you will continue improving your model. This time, you must adopt a variational Bayesian procedure."
   ]
  },
  {
   "cell_type": "code",
   "execution_count": null,
   "metadata": {
    "deletable": false,
    "editable": false,
    "nbgrader": {
     "cell_type": "code",
     "checksum": "fd54618586d09471677e737834ba27b2",
     "grade": false,
     "grade_id": "cell-b5e04424e563c02a",
     "locked": true,
     "schema_version": 3,
     "solution": false,
     "task": false
    }
   },
   "outputs": [],
   "source": [
    "using Pkg\n",
    "Pkg.activate(\"..\")\n",
    "Pkg.instantiate()\n",
    "\n",
    "using CSV\n",
    "using DataFrames\n",
    "using LinearAlgebra\n",
    "using ProgressMeter\n",
    "using RxInfer\n",
    "using Plots\n",
    "default(label=\"\",\n",
    "        grid=false, \n",
    "        linewidth=3, \n",
    "        markersize=4,\n",
    "        guidefontsize=12, \n",
    "        margins=15Plots.pt)"
   ]
  },
  {
   "cell_type": "markdown",
   "metadata": {
    "deletable": false,
    "editable": false,
    "nbgrader": {
     "cell_type": "markdown",
     "checksum": "13e9516cdf96107aeb8b16d3cefeae07",
     "grade": false,
     "grade_id": "cell-34ef85634ee970b5",
     "locked": true,
     "schema_version": 3,
     "solution": false,
     "task": false
    }
   },
   "source": [
    "## Problem: Forecasting Air Quality\n",
    "\n",
    "Many Europeans suspect that the air quality in their city is declining. A [recent study](https://doi.org/10.1016/j.snb.2007.09.060) measured the air quality of a major city in North Italy using an electronic nose. The measurements were made in the middle of the city and reflect urban activity. We will inspect the specific chemical concentrations found and build a model to accurately predict CO for future time points.\n",
    "\n",
    "![https://www.theguardian.com/environment/2020/apr/07/air-pollution-linked-to-far-higher-covid-19-death-rates-study-finds](figures/air-milan-wide.png)\n",
    "\n",
    "Photograph taken by Claudio Furlan/LaPresse/Zuma Press/Rex/Shutterstock ([link](https://www.theguardian.com/environment/2020/apr/07/air-pollution-linked-to-far-higher-covid-19-death-rates-study-finds))"
   ]
  },
  {
   "cell_type": "markdown",
   "metadata": {
    "deletable": false,
    "editable": false,
    "nbgrader": {
     "cell_type": "markdown",
     "checksum": "406f5c1c3625c16261ab29fb17e97143",
     "grade": false,
     "grade_id": "cell-45051132e0ef85b0",
     "locked": true,
     "schema_version": 3,
     "solution": false,
     "task": false
    }
   },
   "source": [
    "### Data\n",
    "\n",
    "The data can be found here: https://archive.ics.uci.edu/ml/datasets/Air+Quality. I've done some pre-processing and selected the most important features. In this assignment we will infer parameters in a model of the data and predict air quality in the future. For that purpose, the data has been split into past and future."
   ]
  },
  {
   "cell_type": "code",
   "execution_count": null,
   "metadata": {
    "deletable": false,
    "editable": false,
    "nbgrader": {
     "cell_type": "code",
     "checksum": "77ac4f1d0640db135a5e5d05883f38d5",
     "grade": false,
     "grade_id": "cell-87cd1439d3c4a02b",
     "locked": true,
     "schema_version": 3,
     "solution": false,
     "task": false
    }
   },
   "outputs": [],
   "source": [
    "past_data = DataFrame(CSV.File(\"data/airquality_past.csv\"))"
   ]
  },
  {
   "cell_type": "code",
   "execution_count": null,
   "metadata": {
    "deletable": false,
    "editable": false,
    "nbgrader": {
     "cell_type": "code",
     "checksum": "fbc7377bb4391dd7804b3b04c232d07f",
     "grade": false,
     "grade_id": "cell-4a0c4d6c575c929c",
     "locked": true,
     "schema_version": 3,
     "solution": false,
     "task": false
    }
   },
   "outputs": [],
   "source": [
    "scatter(past_data[:,1], \n",
    "        past_data[:,2], \n",
    "        size=(900,300), \n",
    "        color=\"black\", \n",
    "        xlabel=\"time\", \n",
    "        ylabel=\"CO (ppm)\",\n",
    "        ylims=[400,2000])"
   ]
  },
  {
   "cell_type": "markdown",
   "metadata": {
    "deletable": false,
    "editable": false,
    "nbgrader": {
     "cell_type": "markdown",
     "checksum": "d675b6c8d86097f68310a742f8b3fe2e",
     "grade": false,
     "grade_id": "cell-1a8a72844c5db15c",
     "locked": true,
     "schema_version": 3,
     "solution": false,
     "task": false
    }
   },
   "source": [
    "## 1. Model specification and parameter estimation\n",
    "\n",
    "We set the noise level $\\tau$ to $1.0$ but that was based on convenience, not on domain expertise or data. You are going to infer this quantity, simulteanously with the AR coefficients. You should put a prior probability distribution over $\\tau$ and infer a posterior $p(\\tau \\mid \\mathcal{D})$. \n",
    "\n",
    "Tasks:\n",
    "- [1pt] Infer the approximate posteriors for $\\theta$ and $\\tau$, for model order $M=3$.\n",
    "- [1pt] Visualize the posterior for the noise distribution $q(\\tau)$ and the 1-step ahead predictions (mean and variance) on the data."
   ]
  },
  {
   "cell_type": "code",
   "execution_count": null,
   "metadata": {
    "deletable": false,
    "nbgrader": {
     "cell_type": "code",
     "checksum": "155a39c740170c1792729e4fa9a31a14",
     "grade": true,
     "grade_id": "cell-2375041ebbbac731",
     "locked": false,
     "points": 2,
     "schema_version": 3,
     "solution": true,
     "task": false
    }
   },
   "outputs": [],
   "source": [
    "# YOUR CODE HERE\n",
    "error(\"Not Implemented\")"
   ]
  },
  {
   "cell_type": "markdown",
   "metadata": {
    "deletable": false,
    "editable": false,
    "nbgrader": {
     "cell_type": "markdown",
     "checksum": "80a59767a160ce85d86fa1b3610f274e",
     "grade": false,
     "grade_id": "cell-5eb1fc0b1a909444",
     "locked": true,
     "schema_version": 3,
     "solution": false,
     "task": false
    }
   },
   "source": [
    "## 2. Model selection & deployment\n",
    "\n",
    "Repeat the model selection procedure over the AR order. Which model is the best?\n",
    "\n",
    "Tasks:\n",
    "- [1pt] Compute the free energies for a given range of model orders and report the best performing one.\n",
    "- [1pt] Deploy the best model (i.e., compute 1-step ahead predictions) on future data."
   ]
  },
  {
   "cell_type": "code",
   "execution_count": null,
   "metadata": {
    "deletable": false,
    "nbgrader": {
     "cell_type": "code",
     "checksum": "814146f76f1a63027a836b4a1c793ae4",
     "grade": true,
     "grade_id": "cell-b06a099a22370d24",
     "locked": false,
     "points": 1,
     "schema_version": 3,
     "solution": true,
     "task": false
    }
   },
   "outputs": [],
   "source": [
    "# YOUR CODE HERE\n",
    "error(\"Not Implemented\")"
   ]
  },
  {
   "cell_type": "code",
   "execution_count": null,
   "metadata": {
    "deletable": false,
    "editable": false,
    "nbgrader": {
     "cell_type": "code",
     "checksum": "c74336fb1f4e14e303cf4e0f5eae58ab",
     "grade": false,
     "grade_id": "cell-edd1e806d4d206d4",
     "locked": true,
     "schema_version": 3,
     "solution": false,
     "task": false
    }
   },
   "outputs": [],
   "source": [
    "# Load test data\n",
    "future_data = DataFrame(CSV.File(\"data/airquality_future.csv\"))"
   ]
  },
  {
   "cell_type": "code",
   "execution_count": null,
   "metadata": {
    "deletable": false,
    "nbgrader": {
     "cell_type": "code",
     "checksum": "ae4f6185c2a30fe1fef165ca65a74faa",
     "grade": true,
     "grade_id": "cell-b516516cb1eaad26",
     "locked": false,
     "points": 1,
     "schema_version": 3,
     "solution": true,
     "task": false
    }
   },
   "outputs": [],
   "source": [
    "# YOUR CODE HERE\n",
    "error(\"Not Implemented\")"
   ]
  }
 ],
 "metadata": {
  "@webio": {
   "lastCommId": null,
   "lastKernelId": null
  },
  "kernelspec": {
   "display_name": "Julia 1.8.3",
   "language": "julia",
   "name": "julia-1.8"
  },
  "language_info": {
   "file_extension": ".jl",
   "mimetype": "application/julia",
   "name": "julia",
   "version": "1.8.3"
  }
 },
 "nbformat": 4,
 "nbformat_minor": 4
}
