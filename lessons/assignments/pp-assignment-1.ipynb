{
 "cells": [
  {
   "cell_type": "markdown",
   "metadata": {},
   "source": [
    "Make sure everything runs as expected before you submit your notebook. First, **restart the kernel** (Kernel$\\rightarrow$Restart) and then **run all cells** (Cell$\\rightarrow$Run All).\n",
    "\n",
    "Make sure you fill in any place that says `YOUR CODE HERE` or \"YOUR ANSWER HERE\", as well as your name and student ID below:"
   ]
  },
  {
   "cell_type": "code",
   "execution_count": null,
   "metadata": {},
   "outputs": [],
   "source": [
    "NAME = \"\"\n",
    "STUDENT_ID = \"\""
   ]
  },
  {
   "cell_type": "markdown",
   "metadata": {},
   "source": [
    "---"
   ]
  },
  {
   "cell_type": "markdown",
   "metadata": {
    "deletable": false,
    "editable": false,
    "nbgrader": {
     "cell_type": "markdown",
     "checksum": "040ee526a5696eb9dc9797bafe98d73b",
     "grade": false,
     "grade_id": "cell-4fbc41aef772f1fc",
     "locked": true,
     "schema_version": 3,
     "solution": false,
     "task": false
    }
   },
   "source": [
    "# [5SSD0] Probabilistic Programming - Assignment 1\n",
    "\n",
    "Year: 2023-2024\n",
    "\n",
    "In this assignment, we will go through the Bayesian model design cycle:\n",
    "\n",
    " <img src=\"figures/modelling-procedure.png\" alt=\"\" width=\"600\"> \n",
    "\n",
    "You will build a simple model, fit it to data and evaluate its performance on future data. Its performance is not great and you are challenged to improve it."
   ]
  },
  {
   "cell_type": "code",
   "execution_count": null,
   "metadata": {
    "deletable": false,
    "editable": false,
    "nbgrader": {
     "cell_type": "code",
     "checksum": "7793eeed76f27a46774d450fcfa89e29",
     "grade": false,
     "grade_id": "cell-43a9e2b413602a10",
     "locked": true,
     "schema_version": 3,
     "solution": false,
     "task": false
    }
   },
   "outputs": [],
   "source": [
    "using Pkg\n",
    "Pkg.activate(\".\")\n",
    "Pkg.instantiate()\n",
    "\n",
    "using CSV\n",
    "using DataFrames\n",
    "using LinearAlgebra\n",
    "using ProgressMeter\n",
    "using RxInfer\n",
    "using Plots\n",
    "default(label=\"\",\n",
    "        grid=false, \n",
    "        linewidth=3, \n",
    "        markersize=4,\n",
    "        guidefontsize=12, \n",
    "        margins=15Plots.pt)"
   ]
  },
  {
   "cell_type": "markdown",
   "metadata": {
    "deletable": false,
    "editable": false,
    "nbgrader": {
     "cell_type": "markdown",
     "checksum": "2d7ef5a1d1be632c9f4afaeb16bfd0fa",
     "grade": false,
     "grade_id": "cell-e99949e72b0db67b",
     "locked": true,
     "schema_version": 3,
     "solution": false,
     "task": false
    }
   },
   "source": [
    "## Problem: Forecasting Air Quality\n",
    "\n",
    "Many Europeans suspect that the air quality in their city is declining. A [recent study](https://doi.org/10.1016/j.snb.2007.09.060) measured the air quality of a major city in North Italy using an electronic nose. The measurements were made in the middle of the city and reflect urban activity. We will inspect the specific chemical concentrations found and build a model to accurately predict CO for future time points.\n",
    "\n",
    "![https://www.theguardian.com/environment/2020/apr/07/air-pollution-linked-to-far-higher-covid-19-death-rates-study-finds](figures/air-milan-wide.png)\n",
    "\n",
    "Photograph taken by Claudio Furlan/LaPresse/Zuma Press/Rex/Shutterstock ([link](https://www.theguardian.com/environment/2020/apr/07/air-pollution-linked-to-far-higher-covid-19-death-rates-study-finds))"
   ]
  },
  {
   "cell_type": "markdown",
   "metadata": {
    "deletable": false,
    "editable": false,
    "nbgrader": {
     "cell_type": "markdown",
     "checksum": "2a6724dbb48975417e8a9dca6e3409e5",
     "grade": false,
     "grade_id": "cell-0815a9a2c68ec43b",
     "locked": true,
     "schema_version": 3,
     "solution": false,
     "task": false
    }
   },
   "source": [
    "### Data\n",
    "\n",
    "The data can be found here: https://archive.ics.uci.edu/ml/datasets/Air+Quality. I've done some pre-processing and selected the most important features. In this assignment we will infer parameters in a model of the data and predict air quality in the future. For that purpose, the data has been split into past and future."
   ]
  },
  {
   "cell_type": "code",
   "execution_count": null,
   "metadata": {
    "deletable": false,
    "editable": false,
    "nbgrader": {
     "cell_type": "code",
     "checksum": "c7dfb6d9b2e72c9a42adeed8bf7d5d6e",
     "grade": false,
     "grade_id": "cell-a9fb146b51b759a2",
     "locked": true,
     "schema_version": 3,
     "solution": false,
     "task": false
    }
   },
   "outputs": [],
   "source": [
    "# Load training data\n",
    "past_data = DataFrame(CSV.File(\"data/airquality_past.csv\"))"
   ]
  },
  {
   "cell_type": "markdown",
   "metadata": {
    "deletable": false,
    "editable": false,
    "nbgrader": {
     "cell_type": "markdown",
     "checksum": "e8e04d26235eb139a48a88051fec8b88",
     "grade": false,
     "grade_id": "cell-4b4f20962af3dee0",
     "locked": true,
     "schema_version": 3,
     "solution": false,
     "task": false
    }
   },
   "source": [
    "Let's visualize the carbon monoxide measurements over time."
   ]
  },
  {
   "cell_type": "code",
   "execution_count": null,
   "metadata": {
    "deletable": false,
    "editable": false,
    "nbgrader": {
     "cell_type": "code",
     "checksum": "c97f274d3e5cf2aa883ab3b142ee332f",
     "grade": false,
     "grade_id": "cell-4456c0ad38cfb8bf",
     "locked": true,
     "schema_version": 3,
     "solution": false,
     "task": false
    }
   },
   "outputs": [],
   "source": [
    "scatter(past_data[:,1], \n",
    "        past_data[:,2], \n",
    "        size=(900,300), \n",
    "        color=\"black\", \n",
    "        xlabel=\"time\", \n",
    "        ylabel=\"CO (ppm)\",\n",
    "        ylims=[400,2000])"
   ]
  },
  {
   "cell_type": "markdown",
   "metadata": {
    "deletable": false,
    "editable": false,
    "nbgrader": {
     "cell_type": "markdown",
     "checksum": "ecd468c137cd7c33437ee417c26ebad7",
     "grade": false,
     "grade_id": "cell-a088016e7da9f43b",
     "locked": true,
     "schema_version": 3,
     "solution": false,
     "task": false
    }
   },
   "source": [
    "## 1. Model specification & parameter estimation\n",
    "\n",
    "We suspect that there is a temporal dependence in this dataset. In other words, the data changes relatively slowly over time and neighbouring data points end up being highly correlated. To exploit this correlation, we will build an _auto-regressive model_ of the form:\n",
    "\n",
    "$$ y_k = \\theta y_{k-1} + \\epsilon_k \\, , $$\n",
    "\n",
    "where the noise $\\epsilon_k$ is drawn from a zero-mean Gaussian with precision parameter $\\tau$: \n",
    "\n",
    "$$ \\epsilon_k \\sim \\mathcal{N}(0, \\tau^{-1}) \\, .$$\n",
    "\n",
    "Tasks:\n",
    "- [1pt] Specify the above equation as a probabilistic model in RxInfer, using $\\tau = 1.0$.\n",
    "- [1pt] Specify and execute an inference procedure to infer a posterior distribution for $\\theta$.\n",
    "- [1pt] Plot the inferred distribution over the interval $[0,\\ 2]$."
   ]
  },
  {
   "cell_type": "code",
   "execution_count": null,
   "metadata": {
    "deletable": false,
    "nbgrader": {
     "cell_type": "code",
     "checksum": "85cee1c3d6e7d45f988cd822057603a1",
     "grade": true,
     "grade_id": "cell-f6dde0cdd1dd486e",
     "locked": false,
     "points": 3,
     "schema_version": 3,
     "solution": true,
     "task": false
    }
   },
   "outputs": [],
   "source": [
    "# YOUR CODE HERE\n",
    "error(\"Not Implemented\")"
   ]
  },
  {
   "cell_type": "markdown",
   "metadata": {
    "deletable": false,
    "editable": false,
    "nbgrader": {
     "cell_type": "markdown",
     "checksum": "0b4f3852ce23de0921b0f68532d4d03e",
     "grade": false,
     "grade_id": "cell-7557dc24f96616b9",
     "locked": true,
     "schema_version": 3,
     "solution": false,
     "task": false
    }
   },
   "source": [
    "## 2. Predictions & model evaluation\n",
    "\n",
    "We want to evaluate the parameters inferred under the model. For now, we will do this by visually inspecting the 1-step ahead predictions on our data set. Later, we will use free energy as a metric. \n",
    "\n",
    "The posterior predictive distribution for the next time step is:\n",
    "\n",
    "$$ p(y_{t+1} \\mid y_{t}, \\mathcal{D}) = \\int p(y_{t+1} \\mid \\theta, y_{t}) p(\\theta \\mid \\mathcal{D}) \\, \\mathrm{d}\\theta \\, , $$\n",
    "\n",
    "where $\\mathcal{D}$ refers to the data used to infer the posterior distribution. To make 1-step ahead predictions, you will have to loop over the data (i.e., `for t in 1:T`), plug in the current data point and compute the parameters of the posterior predictive distribution for the next data point. You may start from $t=2$, using $y_1$ as initial \"previous observation\". \n",
    "\n",
    "Tasks:\n",
    "- [1pt] Derive the parameters of the posterior predictive and compute the 1-step ahead predictions on the data set.\n",
    "- [1pt] Plot the first 10 predictions (posterior predictive variance in `ribbon=`) along with $y_{2:11}$ (scatterplot).\n",
    "\n",
    "---\n",
    "\n",
    "Note that if you failed to infer a posterior distribution in the previous question, you can still answer this question using a standard normal, $p(\\theta) = \\mathcal{N}(0,1)$."
   ]
  },
  {
   "cell_type": "code",
   "execution_count": null,
   "metadata": {
    "deletable": false,
    "nbgrader": {
     "cell_type": "code",
     "checksum": "53acdcffb510dd2ebe499c2468068bd8",
     "grade": true,
     "grade_id": "cell-067056bba801420b",
     "locked": false,
     "points": 2,
     "schema_version": 3,
     "solution": true,
     "task": false
    }
   },
   "outputs": [],
   "source": [
    "# YOUR CODE HERE\n",
    "error(\"Not Implemented\")"
   ]
  },
  {
   "cell_type": "markdown",
   "metadata": {
    "deletable": false,
    "editable": false,
    "nbgrader": {
     "cell_type": "markdown",
     "checksum": "7635928e03c24638f9eea24147e3dffa",
     "grade": false,
     "grade_id": "cell-6539ff88d36fb7dd",
     "locked": true,
     "schema_version": 3,
     "solution": false,
     "task": false
    }
   },
   "source": [
    "## 3. Model critiqueing & improvement\n",
    "\n",
    "From the results of the previous question, you may conclude that our initial model isn't great: it only considers extremely short-term changes, which are highly affected by noise. If we want the model to consider changes over longer periods of time, then we need to increase the order of the auto-regressive model. That corresponds to:\n",
    "\n",
    "$$ y_k = \\sum_{m=1}^{M} \\theta_m y_{k-m} + \\epsilon_k \\, ,$$\n",
    "\n",
    "where $M$ refers to model order.\n",
    "\n",
    "Tasks:\n",
    "- [1pt] Specify a higher-order AR model with an order parameter $M$, and with an appropriate prior on the AR coefficients.\n",
    "- [1pt] Visualize the 1-step ahead predictions (mean and variance) on the data."
   ]
  },
  {
   "cell_type": "code",
   "execution_count": null,
   "metadata": {
    "deletable": false,
    "nbgrader": {
     "cell_type": "code",
     "checksum": "a8921752cbf169bf414b80711017f150",
     "grade": true,
     "grade_id": "cell-f70b84963e0b07c2",
     "locked": false,
     "points": 2,
     "schema_version": 3,
     "solution": true,
     "task": false
    }
   },
   "outputs": [],
   "source": [
    "# YOUR CODE HERE\n",
    "error(\"Not Implemented\")"
   ]
  },
  {
   "cell_type": "markdown",
   "metadata": {
    "deletable": false,
    "editable": false,
    "nbgrader": {
     "cell_type": "markdown",
     "checksum": "dc4e02cd296a436e704a657eb881452e",
     "grade": false,
     "grade_id": "cell-98c4d12fbea5c9b9",
     "locked": true,
     "schema_version": 3,
     "solution": false,
     "task": false
    }
   },
   "source": [
    "## 4. Model selection & deployment\n",
    "\n",
    "We now essentially have a different model for each value of $M$. Which is the best?\n",
    "\n",
    "Tasks:\n",
    "- [1pt] Compute the free energies for a given range of model orders and report the best performing one.\n",
    "- [1pt] Deploy the best model (i.e., compute 1-step ahead predictions) on future data."
   ]
  },
  {
   "cell_type": "code",
   "execution_count": null,
   "metadata": {
    "deletable": false,
    "nbgrader": {
     "cell_type": "code",
     "checksum": "d1355ffef09fbc3644e443162f61f30d",
     "grade": true,
     "grade_id": "cell-c01760f6ec12fbca",
     "locked": false,
     "points": 1,
     "schema_version": 3,
     "solution": true,
     "task": false
    }
   },
   "outputs": [],
   "source": [
    "# YOUR CODE HERE\n",
    "error(\"Not Implemented\")"
   ]
  },
  {
   "cell_type": "code",
   "execution_count": null,
   "metadata": {
    "deletable": false,
    "editable": false,
    "nbgrader": {
     "cell_type": "code",
     "checksum": "7d5af789e6850b042c6748feb90ea639",
     "grade": false,
     "grade_id": "cell-d9e8a3de0be16354",
     "locked": true,
     "schema_version": 3,
     "solution": false,
     "task": false
    }
   },
   "outputs": [],
   "source": [
    "# Load test data\n",
    "future_data = DataFrame(CSV.File(\"data/airquality_future.csv\"))"
   ]
  },
  {
   "cell_type": "code",
   "execution_count": null,
   "metadata": {
    "deletable": false,
    "nbgrader": {
     "cell_type": "code",
     "checksum": "45d4613e1b3574d9db23ad6ecaa5687c",
     "grade": true,
     "grade_id": "cell-8311bb1918545f1a",
     "locked": false,
     "points": 1,
     "schema_version": 3,
     "solution": true,
     "task": false
    }
   },
   "outputs": [],
   "source": [
    "# YOUR CODE HERE\n",
    "error(\"Not Implemented\")"
   ]
  }
 ],
 "metadata": {
  "@webio": {
   "lastCommId": null,
   "lastKernelId": null
  },
  "kernelspec": {
   "display_name": "Julia 1.8.3",
   "language": "julia",
   "name": "julia-1.8"
  },
  "language_info": {
   "file_extension": ".jl",
   "mimetype": "application/julia",
   "name": "julia",
   "version": "1.8.3"
  }
 },
 "nbformat": 4,
 "nbformat_minor": 4
}
