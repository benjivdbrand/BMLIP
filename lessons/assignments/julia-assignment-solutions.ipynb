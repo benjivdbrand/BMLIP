{
 "cells": [
  {
   "cell_type": "markdown",
   "metadata": {
    "nbgrader": {
     "grade": false,
     "grade_id": "cell-e39dce2363a3b28b",
     "locked": true,
     "schema_version": 3,
     "solution": false,
     "task": false
    }
   },
   "source": [
    "# [5SSD0] Programming in Julia\n",
    "\n",
    "This assignment will teach you some of the basic programming routines in Julia. You will need these skills to complete the probabilistic programming assignments later on in the course. We will assume basic familiarity with programming, such as for-loops, if-else statements and function definitions.\n",
    "\n",
    "Resources:\n",
    "- [Julia documentation](https://docs.julialang.org/en/v1/)\n",
    "- [Differences to Python, Matlab, C and Java](https://docs.julialang.org/en/v1/manual/noteworthy-differences/)\n",
    "- [Video on getting started](https://www.youtube.com/watch?v=4igzy3bGVkQ&list=PLP8iPy9hna6SCcFv3FvY_qjAmtTsNYHQE)"
   ]
  },
  {
   "cell_type": "markdown",
   "metadata": {
    "nbgrader": {
     "grade": false,
     "grade_id": "cell-3c2e8eba10e12225",
     "locked": true,
     "schema_version": 3,
     "solution": false,
     "task": false
    }
   },
   "source": [
    "## Data types and structures\n",
    "\n",
    "- References: [Numbers](https://docs.julialang.org/en/v1/base/numbers/), [Integers and Float](https://docs.julialang.org/en/v1/manual/integers-and-floating-point-numbers/), [Strings](https://docs.julialang.org/en/v1/base/strings/).\n",
    "\n",
    "Numbers in Julia have specific types, most notably `Integer`, `Real` and `Complex`. It is important to be aware of what type your numbers are because many functions operate differently on different number types. "
   ]
  },
  {
   "cell_type": "code",
   "execution_count": null,
   "metadata": {},
   "outputs": [],
   "source": [
    "using Pkg\n",
    "Pkg.activate(\".\")\n",
    "Pkg.instantiate()"
   ]
  },
  {
   "cell_type": "code",
   "execution_count": 1,
   "metadata": {},
   "outputs": [
    {
     "data": {
      "text/plain": [
       "Int64"
      ]
     },
     "execution_count": 1,
     "metadata": {},
     "output_type": "execute_result"
    }
   ],
   "source": [
    "a = 3\n",
    "typeof(a)"
   ]
  },
  {
   "cell_type": "markdown",
   "metadata": {
    "nbgrader": {
     "grade": false,
     "grade_id": "cell-2778002073c87b29",
     "locked": true,
     "schema_version": 3,
     "solution": false,
     "task": false
    }
   },
   "source": [
    "`Int64` is a 64-byte integer. Other options are 32-,16-, or 8-bit integers and they can be unsigned as well. The default real-valued numbers is a 64-bit floating-point number:"
   ]
  },
  {
   "cell_type": "code",
   "execution_count": 2,
   "metadata": {},
   "outputs": [
    {
     "data": {
      "text/plain": [
       "Float64"
      ]
     },
     "execution_count": 2,
     "metadata": {},
     "output_type": "execute_result"
    }
   ],
   "source": [
    "a = 3.0\n",
    "typeof(a)"
   ]
  },
  {
   "cell_type": "markdown",
   "metadata": {
    "nbgrader": {
     "grade": false,
     "grade_id": "cell-b4f29642d811571a",
     "locked": true,
     "schema_version": 3,
     "solution": false,
     "task": false
    }
   },
   "source": [
    "Converting number types is easy:"
   ]
  },
  {
   "cell_type": "code",
   "execution_count": 3,
   "metadata": {},
   "outputs": [
    {
     "data": {
      "text/plain": [
       "Float64"
      ]
     },
     "execution_count": 3,
     "metadata": {},
     "output_type": "execute_result"
    }
   ],
   "source": [
    "a = convert(Float64, 2)\n",
    "typeof(a)"
   ]
  },
  {
   "cell_type": "markdown",
   "metadata": {
    "nbgrader": {
     "grade": false,
     "grade_id": "cell-e3e0a29ac7ff64e8",
     "locked": true,
     "schema_version": 3,
     "solution": false,
     "task": false
    }
   },
   "source": [
    "---\n",
    "\n",
    "<b> Exercise </b>\n",
    "\n",
    "What is the type of an integer times a real-valued number? "
   ]
  },
  {
   "cell_type": "code",
   "execution_count": 45,
   "metadata": {
    "nbgrader": {
     "grade": false,
     "grade_id": "cell-b34e74f8244124b0",
     "locked": false,
     "schema_version": 3,
     "solution": true,
     "task": false
    }
   },
   "outputs": [
    {
     "data": {
      "text/plain": [
       "Float64"
      ]
     },
     "execution_count": 45,
     "metadata": {},
     "output_type": "execute_result"
    }
   ],
   "source": [
    "### BEGIN SOLUTION\n",
    "T = typeof(2*2.0)\n",
    "### END SOLUTION"
   ]
  },
  {
   "cell_type": "code",
   "execution_count": 5,
   "metadata": {
    "nbgrader": {
     "grade": true,
     "grade_id": "cell-03e199644ee9dffd",
     "locked": true,
     "points": 1,
     "schema_version": 3,
     "solution": false,
     "task": false
    }
   },
   "outputs": [],
   "source": [
    "### BEGIN HIDDEN TESTS\n",
    "@assert IJulia.ans <: Real\n",
    "### END HIDDEN TESTS"
   ]
  },
  {
   "cell_type": "markdown",
   "metadata": {
    "nbgrader": {
     "grade": false,
     "grade_id": "cell-34b3e2d0a74189f1",
     "locked": true,
     "schema_version": 3,
     "solution": false,
     "task": false
    }
   },
   "source": [
    "---"
   ]
  },
  {
   "cell_type": "markdown",
   "metadata": {
    "nbgrader": {
     "grade": false,
     "grade_id": "cell-ed3bc3a833acccd0",
     "locked": true,
     "schema_version": 3,
     "solution": false,
     "task": false
    }
   },
   "source": [
    "Strings are constructed by enclosing symbols within double parentheses."
   ]
  },
  {
   "cell_type": "code",
   "execution_count": 6,
   "metadata": {},
   "outputs": [
    {
     "data": {
      "text/plain": [
       "String"
      ]
     },
     "execution_count": 6,
     "metadata": {},
     "output_type": "execute_result"
    }
   ],
   "source": [
    "a = \"3\"\n",
    "typeof(a)"
   ]
  },
  {
   "cell_type": "markdown",
   "metadata": {
    "nbgrader": {
     "grade": false,
     "grade_id": "cell-c1be2e1ea2b90c34",
     "locked": true,
     "schema_version": 3,
     "solution": false,
     "task": false
    }
   },
   "source": [
    "They can be concatenated by multiplication (which is an example of a function, namely `*`, which acts differently on different input argument types): "
   ]
  },
  {
   "cell_type": "code",
   "execution_count": 7,
   "metadata": {},
   "outputs": [
    {
     "data": {
      "text/plain": [
       "\"ab\""
      ]
     },
     "execution_count": 7,
     "metadata": {},
     "output_type": "execute_result"
    }
   ],
   "source": [
    "ab = \"a\"*\"b\""
   ]
  },
  {
   "cell_type": "markdown",
   "metadata": {
    "nbgrader": {
     "grade": false,
     "grade_id": "cell-76b62f36bf62f546",
     "locked": true,
     "schema_version": 3,
     "solution": false,
     "task": false
    }
   },
   "source": [
    "You can incorporate numbers into strings through a `$` call:"
   ]
  },
  {
   "cell_type": "code",
   "execution_count": 8,
   "metadata": {},
   "outputs": [
    {
     "data": {
      "text/plain": [
       "\"a = 3\""
      ]
     },
     "execution_count": 8,
     "metadata": {},
     "output_type": "execute_result"
    }
   ],
   "source": [
    "\"a = $a\""
   ]
  },
  {
   "cell_type": "markdown",
   "metadata": {
    "nbgrader": {
     "grade": false,
     "grade_id": "cell-597f95a479025e8a",
     "locked": true,
     "schema_version": 3,
     "solution": false,
     "task": false
    }
   },
   "source": [
    "## Array manipulation\n",
    "\n",
    "- References: [Arrays](https://docs.julialang.org/en/v1/base/arrays/)\n",
    "\n",
    "Arrays are indexed with square brackets, `A[i,j]`. You can construct a matrix by enclosing a set of numbers with square brackets. If you separate your numbers with comma's, then you will get a column vector:"
   ]
  },
  {
   "cell_type": "code",
   "execution_count": 9,
   "metadata": {},
   "outputs": [
    {
     "data": {
      "text/plain": [
       "4-element Vector{Int64}:\n",
       " 1\n",
       " 2\n",
       " 3\n",
       " 4"
      ]
     },
     "execution_count": 9,
     "metadata": {},
     "output_type": "execute_result"
    }
   ],
   "source": [
    "x = [1,2,3,4]"
   ]
  },
  {
   "cell_type": "markdown",
   "metadata": {
    "nbgrader": {
     "grade": false,
     "grade_id": "cell-55802261c54cb78c",
     "locked": true,
     "schema_version": 3,
     "solution": false,
     "task": false
    }
   },
   "source": [
    "If you use spaces, then you will construct a row vector (i.e., a matrix of dimensions 1 by n):"
   ]
  },
  {
   "cell_type": "code",
   "execution_count": 10,
   "metadata": {},
   "outputs": [
    {
     "data": {
      "text/plain": [
       "1×4 Matrix{Int64}:\n",
       " 1  2  3  4"
      ]
     },
     "execution_count": 10,
     "metadata": {},
     "output_type": "execute_result"
    }
   ],
   "source": [
    "x = [1 2 3 4]"
   ]
  },
  {
   "cell_type": "markdown",
   "metadata": {
    "nbgrader": {
     "grade": false,
     "grade_id": "cell-0797fa9c8ec1c27d",
     "locked": true,
     "schema_version": 3,
     "solution": false,
     "task": false
    }
   },
   "source": [
    "Matrices can be constructed by separating elements with spaces and rows by semicolons:"
   ]
  },
  {
   "cell_type": "code",
   "execution_count": 11,
   "metadata": {},
   "outputs": [
    {
     "data": {
      "text/plain": [
       "2×2 Matrix{Int64}:\n",
       " 1  2\n",
       " 3  4"
      ]
     },
     "execution_count": 11,
     "metadata": {},
     "output_type": "execute_result"
    }
   ],
   "source": [
    "X = [1 2; 3 4]"
   ]
  },
  {
   "cell_type": "markdown",
   "metadata": {
    "nbgrader": {
     "grade": false,
     "grade_id": "cell-752e17ff7e221dc6",
     "locked": true,
     "schema_version": 3,
     "solution": false,
     "task": false
    }
   },
   "source": [
    "Common array constructors are:"
   ]
  },
  {
   "cell_type": "code",
   "execution_count": 12,
   "metadata": {},
   "outputs": [
    {
     "data": {
      "text/plain": [
       "2×3 Matrix{Float64}:\n",
       "  0.951876  -1.24456   -0.859818\n",
       " -0.844609  -0.321822   0.291833"
      ]
     },
     "execution_count": 12,
     "metadata": {},
     "output_type": "execute_result"
    }
   ],
   "source": [
    "X = zeros(2,3)\n",
    "Y = ones(2,3)\n",
    "Z = randn(2,3)"
   ]
  },
  {
   "cell_type": "markdown",
   "metadata": {
    "nbgrader": {
     "grade": false,
     "grade_id": "cell-3acfc8c8c373c8ea",
     "locked": true,
     "schema_version": 3,
     "solution": false,
     "task": false
    }
   },
   "source": [
    "---\n",
    "\n",
    "<b> Exercise </b>\n",
    "\n",
    "Define a variable $X$ of type `Matrix`."
   ]
  },
  {
   "cell_type": "code",
   "execution_count": 13,
   "metadata": {
    "nbgrader": {
     "grade": false,
     "grade_id": "cell-683348c9deff581f",
     "locked": false,
     "schema_version": 3,
     "solution": true,
     "task": false
    }
   },
   "outputs": [
    {
     "data": {
      "text/plain": [
       "2×3 Matrix{Int64}:\n",
       " 3  4  5\n",
       " 6  7  8"
      ]
     },
     "execution_count": 13,
     "metadata": {},
     "output_type": "execute_result"
    }
   ],
   "source": [
    "### BEGIN SOLUTION\n",
    "X = [3 4 5; 6 7 8]\n",
    "### END SOLUTION"
   ]
  },
  {
   "cell_type": "code",
   "execution_count": 14,
   "metadata": {
    "nbgrader": {
     "grade": true,
     "grade_id": "cell-1704786248f70f72",
     "locked": true,
     "points": 1,
     "schema_version": 3,
     "solution": false,
     "task": false
    }
   },
   "outputs": [],
   "source": [
    "### BEGIN HIDDEN TESTS\n",
    "@assert typeof(X) <: Matrix\n",
    "### END HIDDEN TESTS"
   ]
  },
  {
   "cell_type": "markdown",
   "metadata": {
    "nbgrader": {
     "grade": false,
     "grade_id": "cell-aa10bd4d22cb09f7",
     "locked": true,
     "schema_version": 3,
     "solution": false,
     "task": false
    }
   },
   "source": [
    "---"
   ]
  },
  {
   "cell_type": "markdown",
   "metadata": {
    "nbgrader": {
     "grade": false,
     "grade_id": "cell-2842d71d3b6fef26",
     "locked": true,
     "schema_version": 3,
     "solution": false,
     "task": false
    }
   },
   "source": [
    "Matrix operations are intuitive and similar to the mathematical notation:"
   ]
  },
  {
   "cell_type": "code",
   "execution_count": 15,
   "metadata": {},
   "outputs": [
    {
     "data": {
      "text/plain": [
       "3-element Vector{Int64}:\n",
       " 4\n",
       " 7\n",
       " 8"
      ]
     },
     "execution_count": 15,
     "metadata": {},
     "output_type": "execute_result"
    }
   ],
   "source": [
    "A = [3 2 1; 2 3 2; 1 2 3]\n",
    "x = [0, 1, 2]\n",
    "b = A*x"
   ]
  },
  {
   "cell_type": "markdown",
   "metadata": {
    "nbgrader": {
     "grade": false,
     "grade_id": "cell-5ef3ae2aa92ab37c",
     "locked": true,
     "schema_version": 3,
     "solution": false,
     "task": false
    }
   },
   "source": [
    "A matrix can be transposed by a single parenthesis, `A'`. Note that this does not mutate the array in memory. It just tells functions defined for matrices that it should change how it indexes the matrix's elements."
   ]
  },
  {
   "cell_type": "code",
   "execution_count": 16,
   "metadata": {},
   "outputs": [
    {
     "data": {
      "text/plain": [
       "23"
      ]
     },
     "execution_count": 16,
     "metadata": {},
     "output_type": "execute_result"
    }
   ],
   "source": [
    "c = x'*A*x"
   ]
  },
  {
   "cell_type": "markdown",
   "metadata": {
    "nbgrader": {
     "grade": false,
     "grade_id": "cell-8bc5b5397308d8cb",
     "locked": true,
     "schema_version": 3,
     "solution": false,
     "task": false
    }
   },
   "source": [
    "---\n",
    "\n",
    "<b> Exercise </b>\n",
    "\n",
    "Calculate the outer product of the matrix $A$ (defined above) with itself."
   ]
  },
  {
   "cell_type": "code",
   "execution_count": 17,
   "metadata": {
    "nbgrader": {
     "grade": false,
     "grade_id": "cell-0a024cbc1f86f3ee",
     "locked": false,
     "schema_version": 3,
     "solution": true,
     "task": false
    }
   },
   "outputs": [
    {
     "data": {
      "text/plain": [
       "3×3 Matrix{Int64}:\n",
       " 14  14  10\n",
       " 14  17  14\n",
       " 10  14  14"
      ]
     },
     "execution_count": 17,
     "metadata": {},
     "output_type": "execute_result"
    }
   ],
   "source": [
    "### BEGIN SOLUTION\n",
    "A*A'\n",
    "### END SOLUTION"
   ]
  },
  {
   "cell_type": "code",
   "execution_count": 18,
   "metadata": {
    "nbgrader": {
     "grade": true,
     "grade_id": "cell-71c688201a96cf10",
     "locked": true,
     "points": 1,
     "schema_version": 3,
     "solution": false,
     "task": false
    }
   },
   "outputs": [],
   "source": [
    "### BEGIN HIDDEN TESTS\n",
    "@assert IJulia.ans ==  [14  14  10; 14  17  14; 10  14  14]\n",
    "### END HIDDEN TESTS"
   ]
  },
  {
   "cell_type": "markdown",
   "metadata": {
    "nbgrader": {
     "grade": false,
     "grade_id": "cell-ad7f7f5e5fa4f1af",
     "locked": true,
     "schema_version": 3,
     "solution": false,
     "task": false
    }
   },
   "source": [
    "---"
   ]
  },
  {
   "cell_type": "markdown",
   "metadata": {
    "nbgrader": {
     "grade": false,
     "grade_id": "cell-07efb0f4ef442665",
     "locked": true,
     "schema_version": 3,
     "solution": false,
     "task": false
    }
   },
   "source": [
    "## Broadcasting\n",
    "\n",
    "- Reference: [Broadcasting](https://docs.julialang.org/en/v1/manual/arrays/#Broadcasting)\n",
    "\n",
    "You can apply functions to elements in an array by placing a dot in front:"
   ]
  },
  {
   "cell_type": "code",
   "execution_count": 19,
   "metadata": {},
   "outputs": [
    {
     "data": {
      "text/plain": [
       "1×3 Matrix{Int64}:\n",
       " 3  6  9"
      ]
     },
     "execution_count": 19,
     "metadata": {},
     "output_type": "execute_result"
    }
   ],
   "source": [
    " 3 .*[1 2 3]"
   ]
  },
  {
   "cell_type": "markdown",
   "metadata": {
    "nbgrader": {
     "grade": false,
     "grade_id": "cell-31680dda8e3c1644",
     "locked": true,
     "schema_version": 3,
     "solution": false,
     "task": false
    }
   },
   "source": [
    "This also works for named functions:"
   ]
  },
  {
   "cell_type": "code",
   "execution_count": 20,
   "metadata": {},
   "outputs": [
    {
     "data": {
      "text/plain": [
       "3-element Vector{Float64}:\n",
       " 0.8414709848078965\n",
       " 0.9092974268256817\n",
       " 0.1411200080598672"
      ]
     },
     "execution_count": 20,
     "metadata": {},
     "output_type": "execute_result"
    }
   ],
   "source": [
    "sin.([1., 2., 3.])"
   ]
  },
  {
   "cell_type": "markdown",
   "metadata": {
    "nbgrader": {
     "grade": false,
     "grade_id": "cell-1ec56f9af840bd3f",
     "locked": true,
     "schema_version": 3,
     "solution": false,
     "task": false
    }
   },
   "source": [
    "---\n",
    "\n",
    "<b> Exercise </b>\n",
    "\n",
    "Broadcast the exponential function (`exp`) to each element in the following matrix."
   ]
  },
  {
   "cell_type": "code",
   "execution_count": 21,
   "metadata": {
    "nbgrader": {
     "grade": false,
     "grade_id": "cell-ec7c6e9d2a0a3352",
     "locked": false,
     "schema_version": 3,
     "solution": true,
     "task": false
    }
   },
   "outputs": [
    {
     "data": {
      "text/plain": [
       "2×3 Matrix{Float64}:\n",
       "  0.367879  0.135335  0.0497871\n",
       " 20.0855    7.38906   2.71828"
      ]
     },
     "execution_count": 21,
     "metadata": {},
     "output_type": "execute_result"
    }
   ],
   "source": [
    "X = [-1 -2 -3; \n",
    "      3  2  1]\n",
    "### BEGIN SOLUTION\n",
    "exp.(X)\n",
    "### END SOLUTION"
   ]
  },
  {
   "cell_type": "code",
   "execution_count": 22,
   "metadata": {
    "nbgrader": {
     "grade": true,
     "grade_id": "cell-6472e7234e9798cd",
     "locked": true,
     "points": 1,
     "schema_version": 3,
     "solution": false,
     "task": false
    }
   },
   "outputs": [],
   "source": [
    "### BEGIN HIDDEN TESTS\n",
    "@assert sum(abs.(IJulia.ans - [ 0.367879  0.135335  0.0497871; 20.0855    7.38906   2.71828  ])) < 1e-3\n",
    "### END HIDDEN TESTS"
   ]
  },
  {
   "cell_type": "markdown",
   "metadata": {
    "nbgrader": {
     "grade": false,
     "grade_id": "cell-5612d2136639b2a7",
     "locked": true,
     "schema_version": 3,
     "solution": false,
     "task": false
    }
   },
   "source": [
    "---"
   ]
  },
  {
   "cell_type": "markdown",
   "metadata": {
    "nbgrader": {
     "grade": false,
     "grade_id": "cell-86a74a70e6d21c8d",
     "locked": true,
     "schema_version": 3,
     "solution": false,
     "task": false
    }
   },
   "source": [
    "## Iteration\n",
    "\n",
    "- Reference: [Collections](https://docs.julialang.org/en/v1/base/collections/)\n",
    "\n",
    "For-loops are one of the simplest forms of iteration and can be defined in a number of ways. First, the matlab way:"
   ]
  },
  {
   "cell_type": "code",
   "execution_count": 23,
   "metadata": {},
   "outputs": [
    {
     "name": "stdout",
     "output_type": "stream",
     "text": [
      "1\n",
      "3\n",
      "5\n"
     ]
    }
   ],
   "source": [
    "for n = 1:2:5\n",
    "    println(n)\n",
    "end"
   ]
  },
  {
   "cell_type": "markdown",
   "metadata": {
    "nbgrader": {
     "grade": false,
     "grade_id": "cell-f584f54f4771da9f",
     "locked": true,
     "schema_version": 3,
     "solution": false,
     "task": false
    }
   },
   "source": [
    "Next, we can use the `range` command to construct an array of numbers and then use the `in` command to loop over elements in the array:"
   ]
  },
  {
   "cell_type": "code",
   "execution_count": 24,
   "metadata": {},
   "outputs": [
    {
     "name": "stdout",
     "output_type": "stream",
     "text": [
      "0.0\n",
      "4.0\n"
     ]
    }
   ],
   "source": [
    "num_range = range(0, stop=4, length=2)\n",
    "for n in num_range\n",
    "    println(n)\n",
    "end"
   ]
  },
  {
   "cell_type": "markdown",
   "metadata": {
    "nbgrader": {
     "grade": false,
     "grade_id": "cell-3dcbd8a0da6ff030",
     "locked": true,
     "schema_version": 3,
     "solution": false,
     "task": false
    }
   },
   "source": [
    "If you need both the index and the value of the array element, you can use the `enumerate` command:"
   ]
  },
  {
   "cell_type": "code",
   "execution_count": 25,
   "metadata": {},
   "outputs": [
    {
     "name": "stdout",
     "output_type": "stream",
     "text": [
      "1, 0.0\n",
      "2, 4.0\n"
     ]
    }
   ],
   "source": [
    "for (j,n) in enumerate(num_range)\n",
    "    println(\"$j, $n\")\n",
    "end"
   ]
  },
  {
   "cell_type": "markdown",
   "metadata": {
    "nbgrader": {
     "grade": false,
     "grade_id": "cell-009da1637a8bd0de",
     "locked": true,
     "schema_version": 3,
     "solution": false,
     "task": false
    }
   },
   "source": [
    "You may be familiar with \"list comprehension\", which is a shortened form of iterating through a collection:"
   ]
  },
  {
   "cell_type": "code",
   "execution_count": 26,
   "metadata": {},
   "outputs": [
    {
     "data": {
      "text/plain": [
       "2-element Vector{String}:\n",
       " \"n = 0.0\"\n",
       " \"n = 4.0\""
      ]
     },
     "execution_count": 26,
     "metadata": {},
     "output_type": "execute_result"
    }
   ],
   "source": [
    "[\"n = $n\" for n in num_range]"
   ]
  },
  {
   "cell_type": "markdown",
   "metadata": {
    "nbgrader": {
     "grade": false,
     "grade_id": "cell-da08e9e48443111e",
     "locked": true,
     "schema_version": 3,
     "solution": false,
     "task": false
    }
   },
   "source": [
    "---\n",
    "\n",
    "<b> Exercise </b>\n",
    "\n",
    "Iterate over the elements of the following matrix and multiply them with their row and column index (i.e., `x_ij*i*j`). Return the sum of these multiplications."
   ]
  },
  {
   "cell_type": "code",
   "execution_count": 27,
   "metadata": {
    "nbgrader": {
     "grade": false,
     "grade_id": "cell-a1777c7d6128b8a1",
     "locked": false,
     "schema_version": 3,
     "solution": true,
     "task": false
    }
   },
   "outputs": [
    {
     "data": {
      "text/plain": [
       "78.0"
      ]
     },
     "execution_count": 27,
     "metadata": {},
     "output_type": "execute_result"
    }
   ],
   "source": [
    "X = [1 2 3; 4 5 6]\n",
    "### BEGIN SOLUTION\n",
    "N,M = size(X)\n",
    "result = 0.0\n",
    "for i in 1:N\n",
    "    for j in 1:M\n",
    "        result += X[i,j]*i*j\n",
    "    end\n",
    "end\n",
    "result\n",
    "### END SOLUTION"
   ]
  },
  {
   "cell_type": "code",
   "execution_count": 28,
   "metadata": {
    "nbgrader": {
     "grade": true,
     "grade_id": "cell-7dd8d2abe8b5819c",
     "locked": true,
     "points": 1,
     "schema_version": 3,
     "solution": false,
     "task": false
    }
   },
   "outputs": [],
   "source": [
    "### BEGIN HIDDEN TESTS\n",
    "@assert IJulia.ans == 78.0\n",
    "### END HIDDEN TESTS"
   ]
  },
  {
   "cell_type": "markdown",
   "metadata": {},
   "source": [
    "---"
   ]
  },
  {
   "cell_type": "markdown",
   "metadata": {
    "nbgrader": {
     "grade": false,
     "grade_id": "cell-46cbf7bfca3c6d76",
     "locked": true,
     "schema_version": 3,
     "solution": false,
     "task": false
    }
   },
   "source": [
    "## Control flow\n",
    "\n",
    "- References: [Control flow](https://docs.julialang.org/en/v1/manual/control-flow/), [Logical Operators](https://docs.julialang.org/en/v1/manual/missing/#Logical-operators)\n",
    "\n",
    "Control flow refers to redirecting how a compiler goes through a program. Instead of traversing it line-by-line, things like `if-else` statements can make a compiler skip steps. These require logical operations: you can use `==` to check if two variables have the same value, `===` to check if they are actually the same object (i.e., same memory reference) and `!=` to check if they're not equal."
   ]
  },
  {
   "cell_type": "code",
   "execution_count": 29,
   "metadata": {},
   "outputs": [
    {
     "name": "stdout",
     "output_type": "stream",
     "text": [
      "Positive\n"
     ]
    }
   ],
   "source": [
    "a = 3.0\n",
    "if a < 0 \n",
    "    println(\"Negative\")\n",
    "elseif a == 0\n",
    "    println(\"0.0\")\n",
    "else \n",
    "    println(\"Positive\")\n",
    "end"
   ]
  },
  {
   "cell_type": "markdown",
   "metadata": {
    "nbgrader": {
     "grade": false,
     "grade_id": "cell-44cf3744dc8b7ea8",
     "locked": true,
     "schema_version": 3,
     "solution": false,
     "task": false
    }
   },
   "source": [
    "Simple `if-else` statements can often be replaced by `ternary` checks. Essentially, you ask a question (a logical operation followed by `?`) and then tell the program what to do when the answer is yes (written immediately after the question) or no (written after the yes-answer followed by a `:`)."
   ]
  },
  {
   "cell_type": "code",
   "execution_count": 30,
   "metadata": {},
   "outputs": [
    {
     "name": "stdout",
     "output_type": "stream",
     "text": [
      "Positive\n"
     ]
    }
   ],
   "source": [
    "a > 0 ? println(\"Positive\") : println(\"Not positive\")"
   ]
  },
  {
   "cell_type": "markdown",
   "metadata": {
    "nbgrader": {
     "grade": false,
     "grade_id": "cell-b1d71be1e63a4366",
     "locked": true,
     "schema_version": 3,
     "solution": false,
     "task": false
    }
   },
   "source": [
    "---\n",
    "\n",
    "<b> Exercise </b>\n",
    "\n",
    "Write a procedure to check if the given vector is sorted in increasing order."
   ]
  },
  {
   "cell_type": "code",
   "execution_count": 31,
   "metadata": {
    "nbgrader": {
     "grade": false,
     "grade_id": "cell-da2ee0878b04328c",
     "locked": false,
     "schema_version": 3,
     "solution": true,
     "task": false
    }
   },
   "outputs": [
    {
     "data": {
      "text/plain": [
       "\"no\""
      ]
     },
     "execution_count": 31,
     "metadata": {},
     "output_type": "execute_result"
    }
   ],
   "source": [
    "x = [1 2 3 2]\n",
    "\n",
    "### BEGIN SOLUTION\n",
    "answer = \"yes\"\n",
    "for n = 2:length(x)\n",
    "    if x[n] < x[n-1]\n",
    "        answer = \"no\"\n",
    "    end\n",
    "end\n",
    "answer\n",
    "### END SOLUTION"
   ]
  },
  {
   "cell_type": "code",
   "execution_count": 32,
   "metadata": {
    "nbgrader": {
     "grade": true,
     "grade_id": "cell-8a24da27ff98ef55",
     "locked": true,
     "points": 1,
     "schema_version": 3,
     "solution": false,
     "task": false
    }
   },
   "outputs": [],
   "source": [
    "### BEGIN HIDDEN TESTS\n",
    "@assert IJulia.ans == \"no\"\n",
    "### END HIDDEN TESTS"
   ]
  },
  {
   "cell_type": "markdown",
   "metadata": {
    "nbgrader": {
     "grade": false,
     "grade_id": "cell-46416da40865e580",
     "locked": true,
     "schema_version": 3,
     "solution": false,
     "task": false
    }
   },
   "source": [
    "---"
   ]
  },
  {
   "cell_type": "markdown",
   "metadata": {
    "nbgrader": {
     "grade": false,
     "grade_id": "cell-2bd8fafa975e39df",
     "locked": true,
     "schema_version": 3,
     "solution": false,
     "task": false
    }
   },
   "source": [
    "## Functions\n",
    "\n",
    "- References: [Functions](https://docs.julialang.org/en/v1/manual/functions/), [Mutation](https://docs.julialang.org/en/v1/manual/style-guide/#bang-convention)\n",
    "\n",
    "Function and expressions are a core component of the julia language. Its \"multiple dispatch\" feature means that you can define multiple functions with the same name but with behaviour that depends on the input argument types. When you're starting out, you may not notice this so much, but you will start to appreciate this feature tremendously when you begin to professionally develop software."
   ]
  },
  {
   "cell_type": "code",
   "execution_count": 33,
   "metadata": {},
   "outputs": [
    {
     "data": {
      "text/plain": [
       "\"Bah!\""
      ]
     },
     "execution_count": 33,
     "metadata": {},
     "output_type": "execute_result"
    }
   ],
   "source": [
    "function foo(bar::Float64)\n",
    "    message = \"Boo!\"\n",
    "    return message\n",
    "end\n",
    "\n",
    "function foo(bar::Integer)\n",
    "    message = \"Bah!\"\n",
    "    return message\n",
    "end\n",
    "\n",
    "foo(1)"
   ]
  },
  {
   "cell_type": "markdown",
   "metadata": {
    "nbgrader": {
     "grade": false,
     "grade_id": "cell-89334d50f79b3b6e",
     "locked": true,
     "schema_version": 3,
     "solution": false,
     "task": false
    }
   },
   "source": [
    "Note that the `return` argument does not need to be at the end of a function ([the return keyword](https://docs.julialang.org/en/v1/manual/functions/#The-return-Keyword)).\n",
    "\n",
    "You don't actually need the `function` keyword if you have simple enough functions:"
   ]
  },
  {
   "cell_type": "code",
   "execution_count": 34,
   "metadata": {},
   "outputs": [
    {
     "data": {
      "text/plain": [
       "0.25"
      ]
     },
     "execution_count": 34,
     "metadata": {},
     "output_type": "execute_result"
    }
   ],
   "source": [
    "fn(x::Number) = 1/x\n",
    "fn(4)"
   ]
  },
  {
   "cell_type": "markdown",
   "metadata": {
    "nbgrader": {
     "grade": false,
     "grade_id": "cell-52be8f7c7644d2ae",
     "locked": true,
     "schema_version": 3,
     "solution": false,
     "task": false
    }
   },
   "source": [
    "You can add keyword arguments to a function, which are input arguments with default values:"
   ]
  },
  {
   "cell_type": "code",
   "execution_count": 35,
   "metadata": {},
   "outputs": [
    {
     "data": {
      "text/plain": [
       "1×2 Matrix{Float64}:\n",
       " 1.0  0.333333"
      ]
     },
     "execution_count": 35,
     "metadata": {},
     "output_type": "execute_result"
    }
   ],
   "source": [
    "fn(; number::Number = 1) = 1/number\n",
    "[fn() fn(number=3)]"
   ]
  },
  {
   "cell_type": "markdown",
   "metadata": {
    "nbgrader": {
     "grade": false,
     "grade_id": "cell-fdc3777677dd70d6",
     "locked": true,
     "schema_version": 3,
     "solution": false,
     "task": false
    }
   },
   "source": [
    "Functions that modify their input arguments instead of creating new output variables are typically marked with an `!`. Below I have defined an unsorted vector and I call `sort` to sort it in increasing order. If I call the sort function and the original vector, then they will be different:"
   ]
  },
  {
   "cell_type": "code",
   "execution_count": 36,
   "metadata": {},
   "outputs": [
    {
     "data": {
      "text/plain": [
       "3×2 Matrix{Int64}:\n",
       " 1  1\n",
       " 2  3\n",
       " 3  2"
      ]
     },
     "execution_count": 36,
     "metadata": {},
     "output_type": "execute_result"
    }
   ],
   "source": [
    "x = [1, 3, 2]\n",
    "[sort(x) x]"
   ]
  },
  {
   "cell_type": "markdown",
   "metadata": {
    "nbgrader": {
     "grade": false,
     "grade_id": "cell-4d68be5af3628fca",
     "locked": true,
     "schema_version": 3,
     "solution": false,
     "task": false
    }
   },
   "source": [
    "But if I call the `sort!` function and the original vector, you'll see that the original vector is now also sorted."
   ]
  },
  {
   "cell_type": "code",
   "execution_count": 37,
   "metadata": {},
   "outputs": [
    {
     "data": {
      "text/plain": [
       "3×2 Matrix{Int64}:\n",
       " 1  1\n",
       " 2  2\n",
       " 3  3"
      ]
     },
     "execution_count": 37,
     "metadata": {},
     "output_type": "execute_result"
    }
   ],
   "source": [
    "[sort!(x) x]"
   ]
  },
  {
   "cell_type": "markdown",
   "metadata": {
    "nbgrader": {
     "grade": false,
     "grade_id": "cell-bdf12e6d2908c771",
     "locked": true,
     "schema_version": 3,
     "solution": false,
     "task": false
    }
   },
   "source": [
    "---\n",
    "\n",
    "<b> Exercise </b>\n",
    "\n",
    "Write a function `even()` that checks whether the given numbers are even (output argument should be of `BitMatrix` type)."
   ]
  },
  {
   "cell_type": "code",
   "execution_count": 38,
   "metadata": {
    "nbgrader": {
     "grade": false,
     "grade_id": "cell-5dbddd3a46f98f51",
     "locked": false,
     "schema_version": 3,
     "solution": true,
     "task": false
    }
   },
   "outputs": [
    {
     "data": {
      "text/plain": [
       "1×3 BitMatrix:\n",
       " 0  1  0"
      ]
     },
     "execution_count": 38,
     "metadata": {},
     "output_type": "execute_result"
    }
   ],
   "source": [
    "### BEGIN SOLUTION\n",
    "function even(x::Integer)\n",
    "    iseven = false\n",
    "    if rem(x,2) == 0\n",
    "        iseven = true\n",
    "    end\n",
    "    return iseven\n",
    "end\n",
    "### END SOLUTION\n",
    "check = even.([1 2 3])"
   ]
  },
  {
   "cell_type": "code",
   "execution_count": 39,
   "metadata": {
    "nbgrader": {
     "grade": true,
     "grade_id": "cell-bfb29310cda1afea",
     "locked": true,
     "points": 1,
     "schema_version": 3,
     "solution": false,
     "task": false
    }
   },
   "outputs": [],
   "source": [
    "### BEGIN HIDDEN TESTS\n",
    "@assert check == BitArray([0 1 0])\n",
    "### END HIDDEN TESTS"
   ]
  },
  {
   "cell_type": "markdown",
   "metadata": {
    "nbgrader": {
     "grade": false,
     "grade_id": "cell-2588a1c87ed543dd",
     "locked": true,
     "schema_version": 3,
     "solution": false,
     "task": false
    }
   },
   "source": [
    "---"
   ]
  },
  {
   "cell_type": "markdown",
   "metadata": {
    "nbgrader": {
     "grade": false,
     "grade_id": "cell-e1a8e25a1191dbc5",
     "locked": true,
     "schema_version": 3,
     "solution": false,
     "task": false
    }
   },
   "source": [
    "## Importing\n",
    "\n",
    "- Reference: [Packages and modules](https://docs.julialang.org/en/v1/manual/faq/#Packages-and-Modules)\n",
    "\n",
    "Just like with Python, there are thousands of additional software packages that can be imported to provide specific functionalities. You'll encounter some of the most common ones throughout the course. \n",
    "\n",
    "We have provided an \"environment\" that automatically downloads all the packages you need throughout the course. The three lines of code below point to the environment specification itself, a Project.toml file containing a list of packages, and construct the environment. If the specified packages are not installed, then these will be automatically added. This will take a bit of time the first time you run it, but it will only take a few seconds afterwards."
   ]
  },
  {
   "cell_type": "code",
   "execution_count": null,
   "metadata": {
    "nbgrader": {
     "grade": false,
     "grade_id": "cell-108da214ac7e1c99",
     "locked": true,
     "schema_version": 3,
     "solution": false,
     "task": false
    }
   },
   "outputs": [],
   "source": [
    "using Pkg\n",
    "Pkg.activate(\".\")\n",
    "Pkg.instantiate();"
   ]
  },
  {
   "cell_type": "markdown",
   "metadata": {
    "nbgrader": {
     "grade": false,
     "grade_id": "cell-7697dde5851e63b9",
     "locked": true,
     "schema_version": 3,
     "solution": false,
     "task": false
    }
   },
   "source": [
    "Below are some examples of importing packages and using their added functionalities."
   ]
  },
  {
   "cell_type": "code",
   "execution_count": 40,
   "metadata": {},
   "outputs": [
    {
     "data": {
      "text/plain": [
       "Eigen{Float64, Float64, Matrix{Float64}, Vector{Float64}}\n",
       "values:\n",
       "2-element Vector{Float64}:\n",
       " -0.6853720883753125\n",
       "  4.085372088375313\n",
       "vectors:\n",
       "2×2 Matrix{Float64}:\n",
       "  0.476976  -0.878916\n",
       " -0.878916  -0.476976"
      ]
     },
     "execution_count": 40,
     "metadata": {},
     "output_type": "execute_result"
    }
   ],
   "source": [
    "using LinearAlgebra\n",
    "\n",
    "E,V = eigen([3. 2.;2. 0.4])"
   ]
  },
  {
   "cell_type": "code",
   "execution_count": 41,
   "metadata": {},
   "outputs": [
    {
     "data": {
      "text/html": [
       "<div><div style = \"float: left;\"><span>1×3 DataFrame</span></div><div style = \"clear: both;\"></div></div><div class = \"data-frame\" style = \"overflow-x: scroll;\"><table class = \"data-frame\" style = \"margin-bottom: 6px;\"><thead><tr class = \"header\"><th class = \"rowNumber\" style = \"font-weight: bold; text-align: right;\">Row</th><th style = \"text-align: left;\">a</th><th style = \"text-align: left;\">b</th><th style = \"text-align: left;\">c</th></tr><tr class = \"subheader headerLastRow\"><th class = \"rowNumber\" style = \"font-weight: bold; text-align: right;\"></th><th title = \"Int64\" style = \"text-align: left;\">Int64</th><th title = \"Int64\" style = \"text-align: left;\">Int64</th><th title = \"Int64\" style = \"text-align: left;\">Int64</th></tr></thead><tbody><tr><td class = \"rowNumber\" style = \"font-weight: bold; text-align: right;\">1</td><td style = \"text-align: right;\">1</td><td style = \"text-align: right;\">2</td><td style = \"text-align: right;\">3</td></tr></tbody></table></div>"
      ],
      "text/latex": [
       "\\begin{tabular}{r|ccc}\n",
       "\t& a & b & c\\\\\n",
       "\t\\hline\n",
       "\t& Int64 & Int64 & Int64\\\\\n",
       "\t\\hline\n",
       "\t1 & 1 & 2 & 3 \\\\\n",
       "\\end{tabular}\n"
      ],
      "text/plain": [
       "\u001b[1m1×3 DataFrame\u001b[0m\n",
       "\u001b[1m Row \u001b[0m│\u001b[1m a     \u001b[0m\u001b[1m b     \u001b[0m\u001b[1m c     \u001b[0m\n",
       "     │\u001b[90m Int64 \u001b[0m\u001b[90m Int64 \u001b[0m\u001b[90m Int64 \u001b[0m\n",
       "─────┼─────────────────────\n",
       "   1 │     1      2      3"
      ]
     },
     "execution_count": 41,
     "metadata": {},
     "output_type": "execute_result"
    }
   ],
   "source": [
    "using DataFrames\n",
    "\n",
    "x = Dict(\n",
    "    \"a\" => 1,\n",
    "    \"b\" => 2,\n",
    "    \"c\" => 3\n",
    ")\n",
    "\n",
    "df = DataFrame(x)"
   ]
  },
  {
   "cell_type": "code",
   "execution_count": 42,
   "metadata": {},
   "outputs": [
    {
     "data": {
      "text/plain": [
       "0.10798193302637613"
      ]
     },
     "execution_count": 42,
     "metadata": {},
     "output_type": "execute_result"
    }
   ],
   "source": [
    "using Distributions\n",
    "\n",
    "px = Normal(1.0, 0.5)\n",
    "pdf(px, 0.0)"
   ]
  },
  {
   "cell_type": "markdown",
   "metadata": {
    "nbgrader": {
     "grade": false,
     "grade_id": "cell-25086ec01e8644ce",
     "locked": true,
     "schema_version": 3,
     "solution": false,
     "task": false
    }
   },
   "source": [
    "## Visualization"
   ]
  },
  {
   "cell_type": "code",
   "execution_count": 43,
   "metadata": {},
   "outputs": [
    {
     "data": {
      "image/png": "[encoded data removed]",
      "image/svg+xml": [
       "<?xml version=\"1.0\" encoding=\"utf-8\"?>\n",
       "<svg xmlns=\"http://www.w3.org/2000/svg\" xmlns:xlink=\"http://www.w3.org/1999/xlink\" width=\"600\" height=\"400\" viewBox=\"0 0 2400 1600\">\n",
       "<defs>\n",
       "  <clipPath id=\"clip970\">\n",
       "    <rect x=\"0\" y=\"0\" width=\"2400\" height=\"1600\"/>\n",
       "  </clipPath>\n",
       "</defs>\n",
       "<path clip-path=\"url(#clip970)\" d=\"M0 1600 L2400 1600 L2400 0 L0 0  Z\" fill=\"#ffffff\" fill-rule=\"evenodd\" fill-opacity=\"1\"/>\n",
       "<defs>\n",
       "  <clipPath id=\"clip971\">\n",
       "    <rect x=\"480\" y=\"0\" width=\"1681\" height=\"1600\"/>\n",
       "  </clipPath>\n",
       "</defs>\n",
       "<path clip-path=\"url(#clip970)\" d=\"M219.866 1423.18 L2352.76 1423.18 L2352.76 47.2441 L219.866 47.2441  Z\" fill=\"#ffffff\" fill-rule=\"evenodd\" fill-opacity=\"1\"/>\n",
       "<defs>\n",
       "  <clipPath id=\"clip972\">\n",
       "    <rect x=\"219\" y=\"47\" width=\"2134\" height=\"1377\"/>\n",
       "  </clipPath>\n",
       "</defs>\n",
       "<polyline clip-path=\"url(#clip972)\" style=\"stroke:#000000; stroke-linecap:round; stroke-linejoin:round; stroke-width:2; stroke-opacity:0.1; fill:none\" points=\"280.231,1423.18 280.231,47.2441 \"/>\n",
       "<polyline clip-path=\"url(#clip972)\" style=\"stroke:#000000; stroke-linecap:round; stroke-linejoin:round; stroke-width:2; stroke-opacity:0.1; fill:none\" points=\"615.591,1423.18 615.591,47.2441 \"/>\n",
       "<polyline clip-path=\"url(#clip972)\" style=\"stroke:#000000; stroke-linecap:round; stroke-linejoin:round; stroke-width:2; stroke-opacity:0.1; fill:none\" points=\"950.951,1423.18 950.951,47.2441 \"/>\n",
       "<polyline clip-path=\"url(#clip972)\" style=\"stroke:#000000; stroke-linecap:round; stroke-linejoin:round; stroke-width:2; stroke-opacity:0.1; fill:none\" points=\"1286.31,1423.18 1286.31,47.2441 \"/>\n",
       "<polyline clip-path=\"url(#clip972)\" style=\"stroke:#000000; stroke-linecap:round; stroke-linejoin:round; stroke-width:2; stroke-opacity:0.1; fill:none\" points=\"1621.67,1423.18 1621.67,47.2441 \"/>\n",
       "<polyline clip-path=\"url(#clip972)\" style=\"stroke:#000000; stroke-linecap:round; stroke-linejoin:round; stroke-width:2; stroke-opacity:0.1; fill:none\" points=\"1957.03,1423.18 1957.03,47.2441 \"/>\n",
       "<polyline clip-path=\"url(#clip972)\" style=\"stroke:#000000; stroke-linecap:round; stroke-linejoin:round; stroke-width:2; stroke-opacity:0.1; fill:none\" points=\"2292.39,1423.18 2292.39,47.2441 \"/>\n",
       "<polyline clip-path=\"url(#clip970)\" style=\"stroke:#000000; stroke-linecap:round; stroke-linejoin:round; stroke-width:4; stroke-opacity:1; fill:none\" points=\"219.866,1423.18 2352.76,1423.18 \"/>\n",
       "<polyline clip-path=\"url(#clip970)\" style=\"stroke:#000000; stroke-linecap:round; stroke-linejoin:round; stroke-width:4; stroke-opacity:1; fill:none\" points=\"280.231,1423.18 280.231,1404.28 \"/>\n",
       "<polyline clip-path=\"url(#clip970)\" style=\"stroke:#000000; stroke-linecap:round; stroke-linejoin:round; stroke-width:4; stroke-opacity:1; fill:none\" points=\"615.591,1423.18 615.591,1404.28 \"/>\n",
       "<polyline clip-path=\"url(#clip970)\" style=\"stroke:#000000; stroke-linecap:round; stroke-linejoin:round; stroke-width:4; stroke-opacity:1; fill:none\" points=\"950.951,1423.18 950.951,1404.28 \"/>\n",
       "<polyline clip-path=\"url(#clip970)\" style=\"stroke:#000000; stroke-linecap:round; stroke-linejoin:round; stroke-width:4; stroke-opacity:1; fill:none\" points=\"1286.31,1423.18 1286.31,1404.28 \"/>\n",
       "<polyline clip-path=\"url(#clip970)\" style=\"stroke:#000000; stroke-linecap:round; stroke-linejoin:round; stroke-width:4; stroke-opacity:1; fill:none\" points=\"1621.67,1423.18 1621.67,1404.28 \"/>\n",
       "<polyline clip-path=\"url(#clip970)\" style=\"stroke:#000000; stroke-linecap:round; stroke-linejoin:round; stroke-width:4; stroke-opacity:1; fill:none\" points=\"1957.03,1423.18 1957.03,1404.28 \"/>\n",
       "<polyline clip-path=\"url(#clip970)\" style=\"stroke:#000000; stroke-linecap:round; stroke-linejoin:round; stroke-width:4; stroke-opacity:1; fill:none\" points=\"2292.39,1423.18 2292.39,1404.28 \"/>\n",
       "<path clip-path=\"url(#clip970)\" d=\"M249.699 1468.75 L279.375 1468.75 L279.375 1472.69 L249.699 1472.69 L249.699 1468.75 Z\" fill=\"#000000\" fill-rule=\"nonzero\" fill-opacity=\"1\" /><path clip-path=\"url(#clip970)\" d=\"M303.634 1466.95 Q306.99 1467.66 308.865 1469.93 Q310.763 1472.2 310.763 1475.53 Q310.763 1480.65 307.245 1483.45 Q303.726 1486.25 297.245 1486.25 Q295.069 1486.25 292.754 1485.81 Q290.462 1485.39 288.009 1484.54 L288.009 1480.02 Q289.953 1481.16 292.268 1481.74 Q294.583 1482.32 297.106 1482.32 Q301.504 1482.32 303.796 1480.58 Q306.111 1478.84 306.111 1475.53 Q306.111 1472.48 303.958 1470.77 Q301.828 1469.03 298.009 1469.03 L293.981 1469.03 L293.981 1465.19 L298.194 1465.19 Q301.643 1465.19 303.472 1463.82 Q305.3 1462.43 305.3 1459.84 Q305.3 1457.18 303.402 1455.77 Q301.527 1454.33 298.009 1454.33 Q296.087 1454.33 293.888 1454.75 Q291.689 1455.16 289.05 1456.04 L289.05 1451.88 Q291.712 1451.14 294.027 1450.77 Q296.365 1450.39 298.425 1450.39 Q303.749 1450.39 306.851 1452.83 Q309.953 1455.23 309.953 1459.35 Q309.953 1462.22 308.31 1464.21 Q306.666 1466.18 303.634 1466.95 Z\" fill=\"#000000\" fill-rule=\"nonzero\" fill-opacity=\"1\" /><path clip-path=\"url(#clip970)\" d=\"M585.533 1468.75 L615.209 1468.75 L615.209 1472.69 L585.533 1472.69 L585.533 1468.75 Z\" fill=\"#000000\" fill-rule=\"nonzero\" fill-opacity=\"1\" /><path clip-path=\"url(#clip970)\" d=\"M629.329 1481.64 L645.649 1481.64 L645.649 1485.58 L623.704 1485.58 L623.704 1481.64 Q626.366 1478.89 630.95 1474.26 Q635.556 1469.61 636.737 1468.27 Q638.982 1465.74 639.862 1464.01 Q640.765 1462.25 640.765 1460.56 Q640.765 1457.8 638.82 1456.07 Q636.899 1454.33 633.797 1454.33 Q631.598 1454.33 629.144 1455.09 Q626.714 1455.86 623.936 1457.41 L623.936 1452.69 Q626.76 1451.55 629.214 1450.97 Q631.667 1450.39 633.704 1450.39 Q639.075 1450.39 642.269 1453.08 Q645.464 1455.77 645.464 1460.26 Q645.464 1462.39 644.653 1464.31 Q643.866 1466.2 641.76 1468.8 Q641.181 1469.47 638.079 1472.69 Q634.978 1475.88 629.329 1481.64 Z\" fill=\"#000000\" fill-rule=\"nonzero\" fill-opacity=\"1\" /><path clip-path=\"url(#clip970)\" d=\"M920.708 1468.75 L950.384 1468.75 L950.384 1472.69 L920.708 1472.69 L920.708 1468.75 Z\" fill=\"#000000\" fill-rule=\"nonzero\" fill-opacity=\"1\" /><path clip-path=\"url(#clip970)\" d=\"M961.287 1481.64 L968.926 1481.64 L968.926 1455.28 L960.615 1456.95 L960.615 1452.69 L968.879 1451.02 L973.555 1451.02 L973.555 1481.64 L981.194 1481.64 L981.194 1485.58 L961.287 1485.58 L961.287 1481.64 Z\" fill=\"#000000\" fill-rule=\"nonzero\" fill-opacity=\"1\" /><path clip-path=\"url(#clip970)\" d=\"M1286.31 1454.1 Q1282.7 1454.1 1280.87 1457.66 Q1279.07 1461.2 1279.07 1468.33 Q1279.07 1475.44 1280.87 1479.01 Q1282.7 1482.55 1286.31 1482.55 Q1289.95 1482.55 1291.75 1479.01 Q1293.58 1475.44 1293.58 1468.33 Q1293.58 1461.2 1291.75 1457.66 Q1289.95 1454.1 1286.31 1454.1 M1286.31 1450.39 Q1292.12 1450.39 1295.18 1455 Q1298.26 1459.58 1298.26 1468.33 Q1298.26 1477.06 1295.18 1481.67 Q1292.12 1486.25 1286.31 1486.25 Q1280.5 1486.25 1277.42 1481.67 Q1274.37 1477.06 1274.37 1468.33 Q1274.37 1459.58 1277.42 1455 Q1280.5 1450.39 1286.31 1450.39 Z\" fill=\"#000000\" fill-rule=\"nonzero\" fill-opacity=\"1\" /><path clip-path=\"url(#clip970)\" d=\"M1612.05 1481.64 L1619.69 1481.64 L1619.69 1455.28 L1611.38 1456.95 L1611.38 1452.69 L1619.65 1451.02 L1624.32 1451.02 L1624.32 1481.64 L1631.96 1481.64 L1631.96 1485.58 L1612.05 1485.58 L1612.05 1481.64 Z\" fill=\"#000000\" fill-rule=\"nonzero\" fill-opacity=\"1\" /><path clip-path=\"url(#clip970)\" d=\"M1951.68 1481.64 L1968 1481.64 L1968 1485.58 L1946.06 1485.58 L1946.06 1481.64 Q1948.72 1478.89 1953.3 1474.26 Q1957.91 1469.61 1959.09 1468.27 Q1961.34 1465.74 1962.22 1464.01 Q1963.12 1462.25 1963.12 1460.56 Q1963.12 1457.8 1961.17 1456.07 Q1959.25 1454.33 1956.15 1454.33 Q1953.95 1454.33 1951.5 1455.09 Q1949.07 1455.86 1946.29 1457.41 L1946.29 1452.69 Q1949.11 1451.55 1951.57 1450.97 Q1954.02 1450.39 1956.06 1450.39 Q1961.43 1450.39 1964.62 1453.08 Q1967.82 1455.77 1967.82 1460.26 Q1967.82 1462.39 1967.01 1464.31 Q1966.22 1466.2 1964.11 1468.8 Q1963.54 1469.47 1960.43 1472.69 Q1957.33 1475.88 1951.68 1481.64 Z\" fill=\"#000000\" fill-rule=\"nonzero\" fill-opacity=\"1\" /><path clip-path=\"url(#clip970)\" d=\"M2296.64 1466.95 Q2300 1467.66 2301.87 1469.93 Q2303.77 1472.2 2303.77 1475.53 Q2303.77 1480.65 2300.25 1483.45 Q2296.73 1486.25 2290.25 1486.25 Q2288.07 1486.25 2285.76 1485.81 Q2283.47 1485.39 2281.01 1484.54 L2281.01 1480.02 Q2282.96 1481.16 2285.27 1481.74 Q2287.59 1482.32 2290.11 1482.32 Q2294.51 1482.32 2296.8 1480.58 Q2299.12 1478.84 2299.12 1475.53 Q2299.12 1472.48 2296.96 1470.77 Q2294.83 1469.03 2291.01 1469.03 L2286.99 1469.03 L2286.99 1465.19 L2291.2 1465.19 Q2294.65 1465.19 2296.48 1463.82 Q2298.31 1462.43 2298.31 1459.84 Q2298.31 1457.18 2296.41 1455.77 Q2294.53 1454.33 2291.01 1454.33 Q2289.09 1454.33 2286.89 1454.75 Q2284.69 1455.16 2282.06 1456.04 L2282.06 1451.88 Q2284.72 1451.14 2287.03 1450.77 Q2289.37 1450.39 2291.43 1450.39 Q2296.75 1450.39 2299.86 1452.83 Q2302.96 1455.23 2302.96 1459.35 Q2302.96 1462.22 2301.31 1464.21 Q2299.67 1466.18 2296.64 1466.95 Z\" fill=\"#000000\" fill-rule=\"nonzero\" fill-opacity=\"1\" /><path clip-path=\"url(#clip970)\" d=\"M1302.93 1532.4 L1290.04 1549.74 L1303.59 1568.04 L1296.69 1568.04 L1286.31 1554.04 L1275.93 1568.04 L1269.03 1568.04 L1282.87 1549.39 L1270.21 1532.4 L1277.11 1532.4 L1286.57 1545.1 L1296.02 1532.4 L1302.93 1532.4 Z\" fill=\"#000000\" fill-rule=\"nonzero\" fill-opacity=\"1\" /><polyline clip-path=\"url(#clip972)\" style=\"stroke:#000000; stroke-linecap:round; stroke-linejoin:round; stroke-width:2; stroke-opacity:0.1; fill:none\" points=\"219.866,1384.24 2352.76,1384.24 \"/>\n",
       "<polyline clip-path=\"url(#clip972)\" style=\"stroke:#000000; stroke-linecap:round; stroke-linejoin:round; stroke-width:2; stroke-opacity:0.1; fill:none\" points=\"219.866,1058.86 2352.76,1058.86 \"/>\n",
       "<polyline clip-path=\"url(#clip972)\" style=\"stroke:#000000; stroke-linecap:round; stroke-linejoin:round; stroke-width:2; stroke-opacity:0.1; fill:none\" points=\"219.866,733.491 2352.76,733.491 \"/>\n",
       "<polyline clip-path=\"url(#clip972)\" style=\"stroke:#000000; stroke-linecap:round; stroke-linejoin:round; stroke-width:2; stroke-opacity:0.1; fill:none\" points=\"219.866,408.118 2352.76,408.118 \"/>\n",
       "<polyline clip-path=\"url(#clip972)\" style=\"stroke:#000000; stroke-linecap:round; stroke-linejoin:round; stroke-width:2; stroke-opacity:0.1; fill:none\" points=\"219.866,82.7441 2352.76,82.7441 \"/>\n",
       "<polyline clip-path=\"url(#clip970)\" style=\"stroke:#000000; stroke-linecap:round; stroke-linejoin:round; stroke-width:4; stroke-opacity:1; fill:none\" points=\"219.866,1423.18 219.866,47.2441 \"/>\n",
       "<polyline clip-path=\"url(#clip970)\" style=\"stroke:#000000; stroke-linecap:round; stroke-linejoin:round; stroke-width:4; stroke-opacity:1; fill:none\" points=\"219.866,1384.24 238.764,1384.24 \"/>\n",
       "<polyline clip-path=\"url(#clip970)\" style=\"stroke:#000000; stroke-linecap:round; stroke-linejoin:round; stroke-width:4; stroke-opacity:1; fill:none\" points=\"219.866,1058.86 238.764,1058.86 \"/>\n",
       "<polyline clip-path=\"url(#clip970)\" style=\"stroke:#000000; stroke-linecap:round; stroke-linejoin:round; stroke-width:4; stroke-opacity:1; fill:none\" points=\"219.866,733.491 238.764,733.491 \"/>\n",
       "<polyline clip-path=\"url(#clip970)\" style=\"stroke:#000000; stroke-linecap:round; stroke-linejoin:round; stroke-width:4; stroke-opacity:1; fill:none\" points=\"219.866,408.118 238.764,408.118 \"/>\n",
       "<polyline clip-path=\"url(#clip970)\" style=\"stroke:#000000; stroke-linecap:round; stroke-linejoin:round; stroke-width:4; stroke-opacity:1; fill:none\" points=\"219.866,82.7441 238.764,82.7441 \"/>\n",
       "<path clip-path=\"url(#clip970)\" d=\"M126.691 1370.04 Q123.08 1370.04 121.251 1373.6 Q119.445 1377.14 119.445 1384.27 Q119.445 1391.38 121.251 1394.94 Q123.08 1398.49 126.691 1398.49 Q130.325 1398.49 132.13 1394.94 Q133.959 1391.38 133.959 1384.27 Q133.959 1377.14 132.13 1373.6 Q130.325 1370.04 126.691 1370.04 M126.691 1366.33 Q132.501 1366.33 135.556 1370.94 Q138.635 1375.52 138.635 1384.27 Q138.635 1393 135.556 1397.61 Q132.501 1402.19 126.691 1402.19 Q120.88 1402.19 117.802 1397.61 Q114.746 1393 114.746 1384.27 Q114.746 1375.52 117.802 1370.94 Q120.88 1366.33 126.691 1366.33 Z\" fill=\"#000000\" fill-rule=\"nonzero\" fill-opacity=\"1\" /><path clip-path=\"url(#clip970)\" d=\"M146.853 1395.64 L151.737 1395.64 L151.737 1401.52 L146.853 1401.52 L146.853 1395.64 Z\" fill=\"#000000\" fill-rule=\"nonzero\" fill-opacity=\"1\" /><path clip-path=\"url(#clip970)\" d=\"M171.922 1370.04 Q168.311 1370.04 166.482 1373.6 Q164.677 1377.14 164.677 1384.27 Q164.677 1391.38 166.482 1394.94 Q168.311 1398.49 171.922 1398.49 Q175.556 1398.49 177.362 1394.94 Q179.19 1391.38 179.19 1384.27 Q179.19 1377.14 177.362 1373.6 Q175.556 1370.04 171.922 1370.04 M171.922 1366.33 Q177.732 1366.33 180.788 1370.94 Q183.866 1375.52 183.866 1384.27 Q183.866 1393 180.788 1397.61 Q177.732 1402.19 171.922 1402.19 Q166.112 1402.19 163.033 1397.61 Q159.978 1393 159.978 1384.27 Q159.978 1375.52 163.033 1370.94 Q166.112 1366.33 171.922 1366.33 Z\" fill=\"#000000\" fill-rule=\"nonzero\" fill-opacity=\"1\" /><path clip-path=\"url(#clip970)\" d=\"M128.288 1044.66 Q124.677 1044.66 122.848 1048.23 Q121.043 1051.77 121.043 1058.9 Q121.043 1066.01 122.848 1069.57 Q124.677 1073.11 128.288 1073.11 Q131.922 1073.11 133.728 1069.57 Q135.556 1066.01 135.556 1058.9 Q135.556 1051.77 133.728 1048.23 Q131.922 1044.66 128.288 1044.66 M128.288 1040.96 Q134.098 1040.96 137.154 1045.57 Q140.232 1050.15 140.232 1058.9 Q140.232 1067.63 137.154 1072.23 Q134.098 1076.82 128.288 1076.82 Q122.478 1076.82 119.399 1072.23 Q116.343 1067.63 116.343 1058.9 Q116.343 1050.15 119.399 1045.57 Q122.478 1040.96 128.288 1040.96 Z\" fill=\"#000000\" fill-rule=\"nonzero\" fill-opacity=\"1\" /><path clip-path=\"url(#clip970)\" d=\"M148.45 1070.27 L153.334 1070.27 L153.334 1076.14 L148.45 1076.14 L148.45 1070.27 Z\" fill=\"#000000\" fill-rule=\"nonzero\" fill-opacity=\"1\" /><path clip-path=\"url(#clip970)\" d=\"M167.547 1072.21 L183.866 1072.21 L183.866 1076.14 L161.922 1076.14 L161.922 1072.21 Q164.584 1069.45 169.167 1064.83 Q173.774 1060.17 174.954 1058.83 Q177.2 1056.31 178.079 1054.57 Q178.982 1052.81 178.982 1051.12 Q178.982 1048.37 177.038 1046.63 Q175.116 1044.89 172.014 1044.89 Q169.815 1044.89 167.362 1045.66 Q164.931 1046.42 162.153 1047.97 L162.153 1043.25 Q164.977 1042.12 167.431 1041.54 Q169.885 1040.96 171.922 1040.96 Q177.292 1040.96 180.487 1043.64 Q183.681 1046.33 183.681 1050.82 Q183.681 1052.95 182.871 1054.87 Q182.084 1056.77 179.977 1059.36 Q179.399 1060.03 176.297 1063.25 Q173.195 1066.45 167.547 1072.21 Z\" fill=\"#000000\" fill-rule=\"nonzero\" fill-opacity=\"1\" /><path clip-path=\"url(#clip970)\" d=\"M126.205 719.29 Q122.593 719.29 120.765 722.855 Q118.959 726.396 118.959 733.526 Q118.959 740.632 120.765 744.197 Q122.593 747.739 126.205 747.739 Q129.839 747.739 131.644 744.197 Q133.473 740.632 133.473 733.526 Q133.473 726.396 131.644 722.855 Q129.839 719.29 126.205 719.29 M126.205 715.586 Q132.015 715.586 135.07 720.193 Q138.149 724.776 138.149 733.526 Q138.149 742.253 135.07 746.859 Q132.015 751.442 126.205 751.442 Q120.394 751.442 117.316 746.859 Q114.26 742.253 114.26 733.526 Q114.26 724.776 117.316 720.193 Q120.394 715.586 126.205 715.586 Z\" fill=\"#000000\" fill-rule=\"nonzero\" fill-opacity=\"1\" /><path clip-path=\"url(#clip970)\" d=\"M146.366 744.892 L151.251 744.892 L151.251 750.771 L146.366 750.771 L146.366 744.892 Z\" fill=\"#000000\" fill-rule=\"nonzero\" fill-opacity=\"1\" /><path clip-path=\"url(#clip970)\" d=\"M174.283 720.285 L162.477 738.734 L174.283 738.734 L174.283 720.285 M173.056 716.211 L178.936 716.211 L178.936 738.734 L183.866 738.734 L183.866 742.623 L178.936 742.623 L178.936 750.771 L174.283 750.771 L174.283 742.623 L158.681 742.623 L158.681 738.109 L173.056 716.211 Z\" fill=\"#000000\" fill-rule=\"nonzero\" fill-opacity=\"1\" /><path clip-path=\"url(#clip970)\" d=\"M126.529 393.916 Q122.918 393.916 121.089 397.481 Q119.283 401.023 119.283 408.152 Q119.283 415.259 121.089 418.824 Q122.918 422.365 126.529 422.365 Q130.163 422.365 131.968 418.824 Q133.797 415.259 133.797 408.152 Q133.797 401.023 131.968 397.481 Q130.163 393.916 126.529 393.916 M126.529 390.213 Q132.339 390.213 135.394 394.819 Q138.473 399.402 138.473 408.152 Q138.473 416.879 135.394 421.486 Q132.339 426.069 126.529 426.069 Q120.718 426.069 117.64 421.486 Q114.584 416.879 114.584 408.152 Q114.584 399.402 117.64 394.819 Q120.718 390.213 126.529 390.213 Z\" fill=\"#000000\" fill-rule=\"nonzero\" fill-opacity=\"1\" /><path clip-path=\"url(#clip970)\" d=\"M146.691 419.518 L151.575 419.518 L151.575 425.398 L146.691 425.398 L146.691 419.518 Z\" fill=\"#000000\" fill-rule=\"nonzero\" fill-opacity=\"1\" /><path clip-path=\"url(#clip970)\" d=\"M172.339 406.254 Q169.19 406.254 167.339 408.407 Q165.51 410.56 165.51 414.31 Q165.51 418.037 167.339 420.213 Q169.19 422.365 172.339 422.365 Q175.487 422.365 177.315 420.213 Q179.167 418.037 179.167 414.31 Q179.167 410.56 177.315 408.407 Q175.487 406.254 172.339 406.254 M181.621 391.602 L181.621 395.861 Q179.862 395.027 178.056 394.588 Q176.274 394.148 174.514 394.148 Q169.885 394.148 167.431 397.273 Q165.001 400.398 164.653 406.717 Q166.019 404.703 168.079 403.639 Q170.139 402.551 172.616 402.551 Q177.825 402.551 180.834 405.722 Q183.866 408.87 183.866 414.31 Q183.866 419.634 180.718 422.851 Q177.57 426.069 172.339 426.069 Q166.343 426.069 163.172 421.486 Q160.001 416.879 160.001 408.152 Q160.001 399.958 163.89 395.097 Q167.778 390.213 174.329 390.213 Q176.089 390.213 177.871 390.56 Q179.676 390.907 181.621 391.602 Z\" fill=\"#000000\" fill-rule=\"nonzero\" fill-opacity=\"1\" /><path clip-path=\"url(#clip970)\" d=\"M126.783 68.5428 Q123.172 68.5428 121.343 72.1076 Q119.538 75.6493 119.538 82.7789 Q119.538 89.8853 121.343 93.4501 Q123.172 96.9917 126.783 96.9917 Q130.417 96.9917 132.223 93.4501 Q134.052 89.8853 134.052 82.7789 Q134.052 75.6493 132.223 72.1076 Q130.417 68.5428 126.783 68.5428 M126.783 64.8391 Q132.593 64.8391 135.649 69.4456 Q138.728 74.0289 138.728 82.7789 Q138.728 91.5057 135.649 96.1121 Q132.593 100.695 126.783 100.695 Q120.973 100.695 117.894 96.1121 Q114.839 91.5057 114.839 82.7789 Q114.839 74.0289 117.894 69.4456 Q120.973 64.8391 126.783 64.8391 Z\" fill=\"#000000\" fill-rule=\"nonzero\" fill-opacity=\"1\" /><path clip-path=\"url(#clip970)\" d=\"M146.945 94.1445 L151.829 94.1445 L151.829 100.024 L146.945 100.024 L146.945 94.1445 Z\" fill=\"#000000\" fill-rule=\"nonzero\" fill-opacity=\"1\" /><path clip-path=\"url(#clip970)\" d=\"M172.014 83.6122 Q168.681 83.6122 166.76 85.3946 Q164.862 87.177 164.862 90.302 Q164.862 93.4269 166.76 95.2093 Q168.681 96.9917 172.014 96.9917 Q175.348 96.9917 177.269 95.2093 Q179.19 93.4038 179.19 90.302 Q179.19 87.177 177.269 85.3946 Q175.371 83.6122 172.014 83.6122 M167.339 81.6215 Q164.329 80.8807 162.64 78.8205 Q160.973 76.7604 160.973 73.7974 Q160.973 69.6539 163.913 67.2465 Q166.876 64.8391 172.014 64.8391 Q177.176 64.8391 180.116 67.2465 Q183.056 69.6539 183.056 73.7974 Q183.056 76.7604 181.366 78.8205 Q179.7 80.8807 176.714 81.6215 Q180.093 82.4085 181.968 84.7001 Q183.866 86.9918 183.866 90.302 Q183.866 95.3251 180.788 98.0103 Q177.732 100.695 172.014 100.695 Q166.297 100.695 163.218 98.0103 Q160.163 95.3251 160.163 90.302 Q160.163 86.9918 162.061 84.7001 Q163.959 82.4085 167.339 81.6215 M165.626 74.2372 Q165.626 76.9224 167.292 78.427 Q168.982 79.9316 172.014 79.9316 Q175.024 79.9316 176.714 78.427 Q178.426 76.9224 178.426 74.2372 Q178.426 71.5521 176.714 70.0474 Q175.024 68.5428 172.014 68.5428 Q168.982 68.5428 167.292 70.0474 Q165.626 71.5521 165.626 74.2372 Z\" fill=\"#000000\" fill-rule=\"nonzero\" fill-opacity=\"1\" /><path clip-path=\"url(#clip970)\" d=\"M58.657 788.97 L77.5631 788.97 L77.5631 794.859 L28.3562 794.859 L28.3562 788.97 L33.7671 788.97 Q30.5842 787.124 29.0564 784.323 Q27.4968 781.491 27.4968 777.576 Q27.4968 771.083 32.6531 767.041 Q37.8093 762.966 46.212 762.966 Q54.6147 762.966 59.771 767.041 Q64.9272 771.083 64.9272 777.576 Q64.9272 781.491 63.3994 784.323 Q61.8398 787.124 58.657 788.97 M46.212 769.046 Q39.7508 769.046 36.0905 771.719 Q32.3984 774.361 32.3984 779.008 Q32.3984 783.655 36.0905 786.329 Q39.7508 788.97 46.212 788.97 Q52.6732 788.97 56.3653 786.329 Q60.0256 783.655 60.0256 779.008 Q60.0256 774.361 56.3653 771.719 Q52.6732 769.046 46.212 769.046 Z\" fill=\"#000000\" fill-rule=\"nonzero\" fill-opacity=\"1\" /><path clip-path=\"url(#clip970)\" d=\"M14.5426 739.191 Q21.8632 743.456 29.0246 745.524 Q36.186 747.593 43.5384 747.593 Q50.8908 747.593 58.1159 745.524 Q65.3091 743.424 72.5979 739.191 L72.5979 744.283 Q65.1182 749.057 57.8931 751.445 Q50.668 753.8 43.5384 753.8 Q36.4406 753.8 29.2474 751.445 Q22.0542 749.089 14.5426 744.283 L14.5426 739.191 Z\" fill=\"#000000\" fill-rule=\"nonzero\" fill-opacity=\"1\" /><path clip-path=\"url(#clip970)\" d=\"M28.3562 698.195 L45.7028 711.086 L64.0042 697.527 L64.0042 704.434 L49.9996 714.81 L64.0042 725.186 L64.0042 732.093 L45.3526 718.247 L28.3562 730.915 L28.3562 724.008 L41.0558 714.555 L28.3562 705.102 L28.3562 698.195 Z\" fill=\"#000000\" fill-rule=\"nonzero\" fill-opacity=\"1\" /><path clip-path=\"url(#clip970)\" d=\"M14.5426 690.175 L14.5426 685.082 Q22.0542 680.308 29.2474 677.952 Q36.4406 675.565 43.5384 675.565 Q50.668 675.565 57.8931 677.952 Q65.1182 680.308 72.5979 685.082 L72.5979 690.175 Q65.3091 685.941 58.1159 683.873 Q50.8908 681.772 43.5384 681.772 Q36.186 681.772 29.0246 683.873 Q21.8632 685.941 14.5426 690.175 Z\" fill=\"#000000\" fill-rule=\"nonzero\" fill-opacity=\"1\" /><polyline clip-path=\"url(#clip972)\" style=\"stroke:#ff0000; stroke-linecap:round; stroke-linejoin:round; stroke-width:20; stroke-opacity:1; fill:none\" stroke-dasharray=\"80, 50\" points=\"280.231,1384.24 300.556,1384.24 320.881,1384.24 341.206,1384.24 361.53,1384.24 381.855,1384.24 402.18,1384.24 422.505,1384.24 442.83,1384.24 463.155,1384.24 483.48,1384.24 503.804,1384.24 524.129,1384.24 544.454,1384.24 564.779,1384.24 585.104,1384.24 605.429,1384.24 625.753,1384.24 646.078,1384.24 666.403,1384.24 686.728,1384.24 707.053,1384.24 727.378,1384.24 747.703,1384.24 768.027,1384.24 788.352,1384.23 808.677,1384.23 829.002,1384.22 849.327,1384.21 869.652,1384.18 889.977,1384.14 910.301,1384.08 930.626,1383.97 950.951,1383.8 971.276,1383.54 991.601,1383.12 1011.93,1382.49 1032.25,1381.55 1052.58,1380.15 1072.9,1378.11 1093.23,1375.19 1113.55,1371.08 1133.87,1365.38 1154.2,1357.6 1174.52,1347.16 1194.85,1333.38 1215.17,1315.51 1235.5,1292.71 1255.82,1264.12 1276.15,1228.91 1296.47,1186.29 1316.8,1135.67 1337.12,1076.65 1357.45,1009.17 1377.77,933.553 1398.1,850.593 1418.42,761.578 1438.75,668.311 1459.07,573.079 1479.4,478.584 1499.72,387.829 1520.05,303.969 1540.37,230.132 1560.7,169.232 1581.02,123.774 1601.35,95.6865 1621.67,86.1857 1642,95.6865 1662.32,123.774 1682.65,169.232 1702.97,230.132 1723.3,303.969 1743.62,387.829 1763.95,478.584 1784.27,573.079 1804.59,668.311 1824.92,761.578 1845.24,850.593 1865.57,933.553 1885.89,1009.17 1906.22,1076.65 1926.54,1135.67 1946.87,1186.29 1967.19,1228.91 1987.52,1264.12 2007.84,1292.71 2028.17,1315.51 2048.49,1333.38 2068.82,1347.16 2089.14,1357.6 2109.47,1365.38 2129.79,1371.08 2150.12,1375.19 2170.44,1378.11 2190.77,1380.15 2211.09,1381.55 2231.42,1382.49 2251.74,1383.12 2272.07,1383.54 2292.39,1383.8 \"/>\n",
       "<path clip-path=\"url(#clip970)\" d=\"M1994.9 196.789 L2281.66 196.789 L2281.66 93.1086 L1994.9 93.1086  Z\" fill=\"#ffffff\" fill-rule=\"evenodd\" fill-opacity=\"1\"/>\n",
       "<polyline clip-path=\"url(#clip970)\" style=\"stroke:#000000; stroke-linecap:round; stroke-linejoin:round; stroke-width:4; stroke-opacity:1; fill:none\" points=\"1994.9,196.789 2281.66,196.789 2281.66,93.1086 1994.9,93.1086 1994.9,196.789 \"/>\n",
       "<polyline clip-path=\"url(#clip970)\" style=\"stroke:#ff0000; stroke-linecap:round; stroke-linejoin:round; stroke-width:20; stroke-opacity:1; fill:none\" stroke-dasharray=\"80, 50\" points=\"2018.6,144.949 2160.79,144.949 \"/>\n",
       "<path clip-path=\"url(#clip970)\" d=\"M2188.77 158.34 L2188.77 172.09 L2184.49 172.09 L2184.49 136.303 L2188.77 136.303 L2188.77 140.238 Q2190.11 137.923 2192.15 136.812 Q2194.21 135.678 2197.06 135.678 Q2201.78 135.678 2204.72 139.428 Q2207.68 143.178 2207.68 149.289 Q2207.68 155.4 2204.72 159.15 Q2201.78 162.9 2197.06 162.9 Q2194.21 162.9 2192.15 161.789 Q2190.11 160.655 2188.77 158.34 M2203.26 149.289 Q2203.26 144.59 2201.32 141.928 Q2199.4 139.243 2196.02 139.243 Q2192.64 139.243 2190.69 141.928 Q2188.77 144.59 2188.77 149.289 Q2188.77 153.988 2190.69 156.673 Q2192.64 159.335 2196.02 159.335 Q2199.4 159.335 2201.32 156.673 Q2203.26 153.988 2203.26 149.289 Z\" fill=\"#000000\" fill-rule=\"nonzero\" fill-opacity=\"1\" /><path clip-path=\"url(#clip970)\" d=\"M2231.8 140.238 L2231.8 126.21 L2236.06 126.21 L2236.06 162.229 L2231.8 162.229 L2231.8 158.34 Q2230.46 160.655 2228.4 161.789 Q2226.36 162.9 2223.49 162.9 Q2218.79 162.9 2215.83 159.15 Q2212.89 155.4 2212.89 149.289 Q2212.89 143.178 2215.83 139.428 Q2218.79 135.678 2223.49 135.678 Q2226.36 135.678 2228.4 136.812 Q2230.46 137.923 2231.8 140.238 M2217.29 149.289 Q2217.29 153.988 2219.21 156.673 Q2221.16 159.335 2224.54 159.335 Q2227.91 159.335 2229.86 156.673 Q2231.8 153.988 2231.8 149.289 Q2231.8 144.59 2229.86 141.928 Q2227.91 139.243 2224.54 139.243 Q2221.16 139.243 2219.21 141.928 Q2217.29 144.59 2217.29 149.289 Z\" fill=\"#000000\" fill-rule=\"nonzero\" fill-opacity=\"1\" /><path clip-path=\"url(#clip970)\" d=\"M2257.96 126.21 L2257.96 129.752 L2253.89 129.752 Q2251.6 129.752 2250.69 130.678 Q2249.81 131.604 2249.81 134.011 L2249.81 136.303 L2256.83 136.303 L2256.83 139.613 L2249.81 139.613 L2249.81 162.229 L2245.53 162.229 L2245.53 139.613 L2241.46 139.613 L2241.46 136.303 L2245.53 136.303 L2245.53 134.497 Q2245.53 130.169 2247.54 128.201 Q2249.56 126.21 2253.93 126.21 L2257.96 126.21 Z\" fill=\"#000000\" fill-rule=\"nonzero\" fill-opacity=\"1\" /></svg>\n"
      ],
      "text/html": [
       "<?xml version=\"1.0\" encoding=\"utf-8\"?>\n",
       "<svg xmlns=\"http://www.w3.org/2000/svg\" xmlns:xlink=\"http://www.w3.org/1999/xlink\" width=\"600\" height=\"400\" viewBox=\"0 0 2400 1600\">\n",
       "<defs>\n",
       "  <clipPath id=\"clip020\">\n",
       "    <rect x=\"0\" y=\"0\" width=\"2400\" height=\"1600\"/>\n",
       "  </clipPath>\n",
       "</defs>\n",
       "<path clip-path=\"url(#clip020)\" d=\"M0 1600 L2400 1600 L2400 0 L0 0  Z\" fill=\"#ffffff\" fill-rule=\"evenodd\" fill-opacity=\"1\"/>\n",
       "<defs>\n",
       "  <clipPath id=\"clip021\">\n",
       "    <rect x=\"480\" y=\"0\" width=\"1681\" height=\"1600\"/>\n",
       "  </clipPath>\n",
       "</defs>\n",
       "<path clip-path=\"url(#clip020)\" d=\"M219.866 1423.18 L2352.76 1423.18 L2352.76 47.2441 L219.866 47.2441  Z\" fill=\"#ffffff\" fill-rule=\"evenodd\" fill-opacity=\"1\"/>\n",
       "<defs>\n",
       "  <clipPath id=\"clip022\">\n",
       "    <rect x=\"219\" y=\"47\" width=\"2134\" height=\"1377\"/>\n",
       "  </clipPath>\n",
       "</defs>\n",
       "<polyline clip-path=\"url(#clip022)\" style=\"stroke:#000000; stroke-linecap:round; stroke-linejoin:round; stroke-width:2; stroke-opacity:0.1; fill:none\" points=\"280.231,1423.18 280.231,47.2441 \"/>\n",
       "<polyline clip-path=\"url(#clip022)\" style=\"stroke:#000000; stroke-linecap:round; stroke-linejoin:round; stroke-width:2; stroke-opacity:0.1; fill:none\" points=\"615.591,1423.18 615.591,47.2441 \"/>\n",
       "<polyline clip-path=\"url(#clip022)\" style=\"stroke:#000000; stroke-linecap:round; stroke-linejoin:round; stroke-width:2; stroke-opacity:0.1; fill:none\" points=\"950.951,1423.18 950.951,47.2441 \"/>\n",
       "<polyline clip-path=\"url(#clip022)\" style=\"stroke:#000000; stroke-linecap:round; stroke-linejoin:round; stroke-width:2; stroke-opacity:0.1; fill:none\" points=\"1286.31,1423.18 1286.31,47.2441 \"/>\n",
       "<polyline clip-path=\"url(#clip022)\" style=\"stroke:#000000; stroke-linecap:round; stroke-linejoin:round; stroke-width:2; stroke-opacity:0.1; fill:none\" points=\"1621.67,1423.18 1621.67,47.2441 \"/>\n",
       "<polyline clip-path=\"url(#clip022)\" style=\"stroke:#000000; stroke-linecap:round; stroke-linejoin:round; stroke-width:2; stroke-opacity:0.1; fill:none\" points=\"1957.03,1423.18 1957.03,47.2441 \"/>\n",
       "<polyline clip-path=\"url(#clip022)\" style=\"stroke:#000000; stroke-linecap:round; stroke-linejoin:round; stroke-width:2; stroke-opacity:0.1; fill:none\" points=\"2292.39,1423.18 2292.39,47.2441 \"/>\n",
       "<polyline clip-path=\"url(#clip020)\" style=\"stroke:#000000; stroke-linecap:round; stroke-linejoin:round; stroke-width:4; stroke-opacity:1; fill:none\" points=\"219.866,1423.18 2352.76,1423.18 \"/>\n",
       "<polyline clip-path=\"url(#clip020)\" style=\"stroke:#000000; stroke-linecap:round; stroke-linejoin:round; stroke-width:4; stroke-opacity:1; fill:none\" points=\"280.231,1423.18 280.231,1404.28 \"/>\n",
       "<polyline clip-path=\"url(#clip020)\" style=\"stroke:#000000; stroke-linecap:round; stroke-linejoin:round; stroke-width:4; stroke-opacity:1; fill:none\" points=\"615.591,1423.18 615.591,1404.28 \"/>\n",
       "<polyline clip-path=\"url(#clip020)\" style=\"stroke:#000000; stroke-linecap:round; stroke-linejoin:round; stroke-width:4; stroke-opacity:1; fill:none\" points=\"950.951,1423.18 950.951,1404.28 \"/>\n",
       "<polyline clip-path=\"url(#clip020)\" style=\"stroke:#000000; stroke-linecap:round; stroke-linejoin:round; stroke-width:4; stroke-opacity:1; fill:none\" points=\"1286.31,1423.18 1286.31,1404.28 \"/>\n",
       "<polyline clip-path=\"url(#clip020)\" style=\"stroke:#000000; stroke-linecap:round; stroke-linejoin:round; stroke-width:4; stroke-opacity:1; fill:none\" points=\"1621.67,1423.18 1621.67,1404.28 \"/>\n",
       "<polyline clip-path=\"url(#clip020)\" style=\"stroke:#000000; stroke-linecap:round; stroke-linejoin:round; stroke-width:4; stroke-opacity:1; fill:none\" points=\"1957.03,1423.18 1957.03,1404.28 \"/>\n",
       "<polyline clip-path=\"url(#clip020)\" style=\"stroke:#000000; stroke-linecap:round; stroke-linejoin:round; stroke-width:4; stroke-opacity:1; fill:none\" points=\"2292.39,1423.18 2292.39,1404.28 \"/>\n",
       "<path clip-path=\"url(#clip020)\" d=\"M249.699 1468.75 L279.375 1468.75 L279.375 1472.69 L249.699 1472.69 L249.699 1468.75 Z\" fill=\"#000000\" fill-rule=\"nonzero\" fill-opacity=\"1\" /><path clip-path=\"url(#clip020)\" d=\"M303.634 1466.95 Q306.99 1467.66 308.865 1469.93 Q310.763 1472.2 310.763 1475.53 Q310.763 1480.65 307.245 1483.45 Q303.726 1486.25 297.245 1486.25 Q295.069 1486.25 292.754 1485.81 Q290.462 1485.39 288.009 1484.54 L288.009 1480.02 Q289.953 1481.16 292.268 1481.74 Q294.583 1482.32 297.106 1482.32 Q301.504 1482.32 303.796 1480.58 Q306.111 1478.84 306.111 1475.53 Q306.111 1472.48 303.958 1470.77 Q301.828 1469.03 298.009 1469.03 L293.981 1469.03 L293.981 1465.19 L298.194 1465.19 Q301.643 1465.19 303.472 1463.82 Q305.3 1462.43 305.3 1459.84 Q305.3 1457.18 303.402 1455.77 Q301.527 1454.33 298.009 1454.33 Q296.087 1454.33 293.888 1454.75 Q291.689 1455.16 289.05 1456.04 L289.05 1451.88 Q291.712 1451.14 294.027 1450.77 Q296.365 1450.39 298.425 1450.39 Q303.749 1450.39 306.851 1452.83 Q309.953 1455.23 309.953 1459.35 Q309.953 1462.22 308.31 1464.21 Q306.666 1466.18 303.634 1466.95 Z\" fill=\"#000000\" fill-rule=\"nonzero\" fill-opacity=\"1\" /><path clip-path=\"url(#clip020)\" d=\"M585.533 1468.75 L615.209 1468.75 L615.209 1472.69 L585.533 1472.69 L585.533 1468.75 Z\" fill=\"#000000\" fill-rule=\"nonzero\" fill-opacity=\"1\" /><path clip-path=\"url(#clip020)\" d=\"M629.329 1481.64 L645.649 1481.64 L645.649 1485.58 L623.704 1485.58 L623.704 1481.64 Q626.366 1478.89 630.95 1474.26 Q635.556 1469.61 636.737 1468.27 Q638.982 1465.74 639.862 1464.01 Q640.765 1462.25 640.765 1460.56 Q640.765 1457.8 638.82 1456.07 Q636.899 1454.33 633.797 1454.33 Q631.598 1454.33 629.144 1455.09 Q626.714 1455.86 623.936 1457.41 L623.936 1452.69 Q626.76 1451.55 629.214 1450.97 Q631.667 1450.39 633.704 1450.39 Q639.075 1450.39 642.269 1453.08 Q645.464 1455.77 645.464 1460.26 Q645.464 1462.39 644.653 1464.31 Q643.866 1466.2 641.76 1468.8 Q641.181 1469.47 638.079 1472.69 Q634.978 1475.88 629.329 1481.64 Z\" fill=\"#000000\" fill-rule=\"nonzero\" fill-opacity=\"1\" /><path clip-path=\"url(#clip020)\" d=\"M920.708 1468.75 L950.384 1468.75 L950.384 1472.69 L920.708 1472.69 L920.708 1468.75 Z\" fill=\"#000000\" fill-rule=\"nonzero\" fill-opacity=\"1\" /><path clip-path=\"url(#clip020)\" d=\"M961.287 1481.64 L968.926 1481.64 L968.926 1455.28 L960.615 1456.95 L960.615 1452.69 L968.879 1451.02 L973.555 1451.02 L973.555 1481.64 L981.194 1481.64 L981.194 1485.58 L961.287 1485.58 L961.287 1481.64 Z\" fill=\"#000000\" fill-rule=\"nonzero\" fill-opacity=\"1\" /><path clip-path=\"url(#clip020)\" d=\"M1286.31 1454.1 Q1282.7 1454.1 1280.87 1457.66 Q1279.07 1461.2 1279.07 1468.33 Q1279.07 1475.44 1280.87 1479.01 Q1282.7 1482.55 1286.31 1482.55 Q1289.95 1482.55 1291.75 1479.01 Q1293.58 1475.44 1293.58 1468.33 Q1293.58 1461.2 1291.75 1457.66 Q1289.95 1454.1 1286.31 1454.1 M1286.31 1450.39 Q1292.12 1450.39 1295.18 1455 Q1298.26 1459.58 1298.26 1468.33 Q1298.26 1477.06 1295.18 1481.67 Q1292.12 1486.25 1286.31 1486.25 Q1280.5 1486.25 1277.42 1481.67 Q1274.37 1477.06 1274.37 1468.33 Q1274.37 1459.58 1277.42 1455 Q1280.5 1450.39 1286.31 1450.39 Z\" fill=\"#000000\" fill-rule=\"nonzero\" fill-opacity=\"1\" /><path clip-path=\"url(#clip020)\" d=\"M1612.05 1481.64 L1619.69 1481.64 L1619.69 1455.28 L1611.38 1456.95 L1611.38 1452.69 L1619.65 1451.02 L1624.32 1451.02 L1624.32 1481.64 L1631.96 1481.64 L1631.96 1485.58 L1612.05 1485.58 L1612.05 1481.64 Z\" fill=\"#000000\" fill-rule=\"nonzero\" fill-opacity=\"1\" /><path clip-path=\"url(#clip020)\" d=\"M1951.68 1481.64 L1968 1481.64 L1968 1485.58 L1946.06 1485.58 L1946.06 1481.64 Q1948.72 1478.89 1953.3 1474.26 Q1957.91 1469.61 1959.09 1468.27 Q1961.34 1465.74 1962.22 1464.01 Q1963.12 1462.25 1963.12 1460.56 Q1963.12 1457.8 1961.17 1456.07 Q1959.25 1454.33 1956.15 1454.33 Q1953.95 1454.33 1951.5 1455.09 Q1949.07 1455.86 1946.29 1457.41 L1946.29 1452.69 Q1949.11 1451.55 1951.57 1450.97 Q1954.02 1450.39 1956.06 1450.39 Q1961.43 1450.39 1964.62 1453.08 Q1967.82 1455.77 1967.82 1460.26 Q1967.82 1462.39 1967.01 1464.31 Q1966.22 1466.2 1964.11 1468.8 Q1963.54 1469.47 1960.43 1472.69 Q1957.33 1475.88 1951.68 1481.64 Z\" fill=\"#000000\" fill-rule=\"nonzero\" fill-opacity=\"1\" /><path clip-path=\"url(#clip020)\" d=\"M2296.64 1466.95 Q2300 1467.66 2301.87 1469.93 Q2303.77 1472.2 2303.77 1475.53 Q2303.77 1480.65 2300.25 1483.45 Q2296.73 1486.25 2290.25 1486.25 Q2288.07 1486.25 2285.76 1485.81 Q2283.47 1485.39 2281.01 1484.54 L2281.01 1480.02 Q2282.96 1481.16 2285.27 1481.74 Q2287.59 1482.32 2290.11 1482.32 Q2294.51 1482.32 2296.8 1480.58 Q2299.12 1478.84 2299.12 1475.53 Q2299.12 1472.48 2296.96 1470.77 Q2294.83 1469.03 2291.01 1469.03 L2286.99 1469.03 L2286.99 1465.19 L2291.2 1465.19 Q2294.65 1465.19 2296.48 1463.82 Q2298.31 1462.43 2298.31 1459.84 Q2298.31 1457.18 2296.41 1455.77 Q2294.53 1454.33 2291.01 1454.33 Q2289.09 1454.33 2286.89 1454.75 Q2284.69 1455.16 2282.06 1456.04 L2282.06 1451.88 Q2284.72 1451.14 2287.03 1450.77 Q2289.37 1450.39 2291.43 1450.39 Q2296.75 1450.39 2299.86 1452.83 Q2302.96 1455.23 2302.96 1459.35 Q2302.96 1462.22 2301.31 1464.21 Q2299.67 1466.18 2296.64 1466.95 Z\" fill=\"#000000\" fill-rule=\"nonzero\" fill-opacity=\"1\" /><path clip-path=\"url(#clip020)\" d=\"M1302.93 1532.4 L1290.04 1549.74 L1303.59 1568.04 L1296.69 1568.04 L1286.31 1554.04 L1275.93 1568.04 L1269.03 1568.04 L1282.87 1549.39 L1270.21 1532.4 L1277.11 1532.4 L1286.57 1545.1 L1296.02 1532.4 L1302.93 1532.4 Z\" fill=\"#000000\" fill-rule=\"nonzero\" fill-opacity=\"1\" /><polyline clip-path=\"url(#clip022)\" style=\"stroke:#000000; stroke-linecap:round; stroke-linejoin:round; stroke-width:2; stroke-opacity:0.1; fill:none\" points=\"219.866,1384.24 2352.76,1384.24 \"/>\n",
       "<polyline clip-path=\"url(#clip022)\" style=\"stroke:#000000; stroke-linecap:round; stroke-linejoin:round; stroke-width:2; stroke-opacity:0.1; fill:none\" points=\"219.866,1058.86 2352.76,1058.86 \"/>\n",
       "<polyline clip-path=\"url(#clip022)\" style=\"stroke:#000000; stroke-linecap:round; stroke-linejoin:round; stroke-width:2; stroke-opacity:0.1; fill:none\" points=\"219.866,733.491 2352.76,733.491 \"/>\n",
       "<polyline clip-path=\"url(#clip022)\" style=\"stroke:#000000; stroke-linecap:round; stroke-linejoin:round; stroke-width:2; stroke-opacity:0.1; fill:none\" points=\"219.866,408.118 2352.76,408.118 \"/>\n",
       "<polyline clip-path=\"url(#clip022)\" style=\"stroke:#000000; stroke-linecap:round; stroke-linejoin:round; stroke-width:2; stroke-opacity:0.1; fill:none\" points=\"219.866,82.7441 2352.76,82.7441 \"/>\n",
       "<polyline clip-path=\"url(#clip020)\" style=\"stroke:#000000; stroke-linecap:round; stroke-linejoin:round; stroke-width:4; stroke-opacity:1; fill:none\" points=\"219.866,1423.18 219.866,47.2441 \"/>\n",
       "<polyline clip-path=\"url(#clip020)\" style=\"stroke:#000000; stroke-linecap:round; stroke-linejoin:round; stroke-width:4; stroke-opacity:1; fill:none\" points=\"219.866,1384.24 238.764,1384.24 \"/>\n",
       "<polyline clip-path=\"url(#clip020)\" style=\"stroke:#000000; stroke-linecap:round; stroke-linejoin:round; stroke-width:4; stroke-opacity:1; fill:none\" points=\"219.866,1058.86 238.764,1058.86 \"/>\n",
       "<polyline clip-path=\"url(#clip020)\" style=\"stroke:#000000; stroke-linecap:round; stroke-linejoin:round; stroke-width:4; stroke-opacity:1; fill:none\" points=\"219.866,733.491 238.764,733.491 \"/>\n",
       "<polyline clip-path=\"url(#clip020)\" style=\"stroke:#000000; stroke-linecap:round; stroke-linejoin:round; stroke-width:4; stroke-opacity:1; fill:none\" points=\"219.866,408.118 238.764,408.118 \"/>\n",
       "<polyline clip-path=\"url(#clip020)\" style=\"stroke:#000000; stroke-linecap:round; stroke-linejoin:round; stroke-width:4; stroke-opacity:1; fill:none\" points=\"219.866,82.7441 238.764,82.7441 \"/>\n",
       "<path clip-path=\"url(#clip020)\" d=\"M126.691 1370.04 Q123.08 1370.04 121.251 1373.6 Q119.445 1377.14 119.445 1384.27 Q119.445 1391.38 121.251 1394.94 Q123.08 1398.49 126.691 1398.49 Q130.325 1398.49 132.13 1394.94 Q133.959 1391.38 133.959 1384.27 Q133.959 1377.14 132.13 1373.6 Q130.325 1370.04 126.691 1370.04 M126.691 1366.33 Q132.501 1366.33 135.556 1370.94 Q138.635 1375.52 138.635 1384.27 Q138.635 1393 135.556 1397.61 Q132.501 1402.19 126.691 1402.19 Q120.88 1402.19 117.802 1397.61 Q114.746 1393 114.746 1384.27 Q114.746 1375.52 117.802 1370.94 Q120.88 1366.33 126.691 1366.33 Z\" fill=\"#000000\" fill-rule=\"nonzero\" fill-opacity=\"1\" /><path clip-path=\"url(#clip020)\" d=\"M146.853 1395.64 L151.737 1395.64 L151.737 1401.52 L146.853 1401.52 L146.853 1395.64 Z\" fill=\"#000000\" fill-rule=\"nonzero\" fill-opacity=\"1\" /><path clip-path=\"url(#clip020)\" d=\"M171.922 1370.04 Q168.311 1370.04 166.482 1373.6 Q164.677 1377.14 164.677 1384.27 Q164.677 1391.38 166.482 1394.94 Q168.311 1398.49 171.922 1398.49 Q175.556 1398.49 177.362 1394.94 Q179.19 1391.38 179.19 1384.27 Q179.19 1377.14 177.362 1373.6 Q175.556 1370.04 171.922 1370.04 M171.922 1366.33 Q177.732 1366.33 180.788 1370.94 Q183.866 1375.52 183.866 1384.27 Q183.866 1393 180.788 1397.61 Q177.732 1402.19 171.922 1402.19 Q166.112 1402.19 163.033 1397.61 Q159.978 1393 159.978 1384.27 Q159.978 1375.52 163.033 1370.94 Q166.112 1366.33 171.922 1366.33 Z\" fill=\"#000000\" fill-rule=\"nonzero\" fill-opacity=\"1\" /><path clip-path=\"url(#clip020)\" d=\"M128.288 1044.66 Q124.677 1044.66 122.848 1048.23 Q121.043 1051.77 121.043 1058.9 Q121.043 1066.01 122.848 1069.57 Q124.677 1073.11 128.288 1073.11 Q131.922 1073.11 133.728 1069.57 Q135.556 1066.01 135.556 1058.9 Q135.556 1051.77 133.728 1048.23 Q131.922 1044.66 128.288 1044.66 M128.288 1040.96 Q134.098 1040.96 137.154 1045.57 Q140.232 1050.15 140.232 1058.9 Q140.232 1067.63 137.154 1072.23 Q134.098 1076.82 128.288 1076.82 Q122.478 1076.82 119.399 1072.23 Q116.343 1067.63 116.343 1058.9 Q116.343 1050.15 119.399 1045.57 Q122.478 1040.96 128.288 1040.96 Z\" fill=\"#000000\" fill-rule=\"nonzero\" fill-opacity=\"1\" /><path clip-path=\"url(#clip020)\" d=\"M148.45 1070.27 L153.334 1070.27 L153.334 1076.14 L148.45 1076.14 L148.45 1070.27 Z\" fill=\"#000000\" fill-rule=\"nonzero\" fill-opacity=\"1\" /><path clip-path=\"url(#clip020)\" d=\"M167.547 1072.21 L183.866 1072.21 L183.866 1076.14 L161.922 1076.14 L161.922 1072.21 Q164.584 1069.45 169.167 1064.83 Q173.774 1060.17 174.954 1058.83 Q177.2 1056.31 178.079 1054.57 Q178.982 1052.81 178.982 1051.12 Q178.982 1048.37 177.038 1046.63 Q175.116 1044.89 172.014 1044.89 Q169.815 1044.89 167.362 1045.66 Q164.931 1046.42 162.153 1047.97 L162.153 1043.25 Q164.977 1042.12 167.431 1041.54 Q169.885 1040.96 171.922 1040.96 Q177.292 1040.96 180.487 1043.64 Q183.681 1046.33 183.681 1050.82 Q183.681 1052.95 182.871 1054.87 Q182.084 1056.77 179.977 1059.36 Q179.399 1060.03 176.297 1063.25 Q173.195 1066.45 167.547 1072.21 Z\" fill=\"#000000\" fill-rule=\"nonzero\" fill-opacity=\"1\" /><path clip-path=\"url(#clip020)\" d=\"M126.205 719.29 Q122.593 719.29 120.765 722.855 Q118.959 726.396 118.959 733.526 Q118.959 740.632 120.765 744.197 Q122.593 747.739 126.205 747.739 Q129.839 747.739 131.644 744.197 Q133.473 740.632 133.473 733.526 Q133.473 726.396 131.644 722.855 Q129.839 719.29 126.205 719.29 M126.205 715.586 Q132.015 715.586 135.07 720.193 Q138.149 724.776 138.149 733.526 Q138.149 742.253 135.07 746.859 Q132.015 751.442 126.205 751.442 Q120.394 751.442 117.316 746.859 Q114.26 742.253 114.26 733.526 Q114.26 724.776 117.316 720.193 Q120.394 715.586 126.205 715.586 Z\" fill=\"#000000\" fill-rule=\"nonzero\" fill-opacity=\"1\" /><path clip-path=\"url(#clip020)\" d=\"M146.366 744.892 L151.251 744.892 L151.251 750.771 L146.366 750.771 L146.366 744.892 Z\" fill=\"#000000\" fill-rule=\"nonzero\" fill-opacity=\"1\" /><path clip-path=\"url(#clip020)\" d=\"M174.283 720.285 L162.477 738.734 L174.283 738.734 L174.283 720.285 M173.056 716.211 L178.936 716.211 L178.936 738.734 L183.866 738.734 L183.866 742.623 L178.936 742.623 L178.936 750.771 L174.283 750.771 L174.283 742.623 L158.681 742.623 L158.681 738.109 L173.056 716.211 Z\" fill=\"#000000\" fill-rule=\"nonzero\" fill-opacity=\"1\" /><path clip-path=\"url(#clip020)\" d=\"M126.529 393.916 Q122.918 393.916 121.089 397.481 Q119.283 401.023 119.283 408.152 Q119.283 415.259 121.089 418.824 Q122.918 422.365 126.529 422.365 Q130.163 422.365 131.968 418.824 Q133.797 415.259 133.797 408.152 Q133.797 401.023 131.968 397.481 Q130.163 393.916 126.529 393.916 M126.529 390.213 Q132.339 390.213 135.394 394.819 Q138.473 399.402 138.473 408.152 Q138.473 416.879 135.394 421.486 Q132.339 426.069 126.529 426.069 Q120.718 426.069 117.64 421.486 Q114.584 416.879 114.584 408.152 Q114.584 399.402 117.64 394.819 Q120.718 390.213 126.529 390.213 Z\" fill=\"#000000\" fill-rule=\"nonzero\" fill-opacity=\"1\" /><path clip-path=\"url(#clip020)\" d=\"M146.691 419.518 L151.575 419.518 L151.575 425.398 L146.691 425.398 L146.691 419.518 Z\" fill=\"#000000\" fill-rule=\"nonzero\" fill-opacity=\"1\" /><path clip-path=\"url(#clip020)\" d=\"M172.339 406.254 Q169.19 406.254 167.339 408.407 Q165.51 410.56 165.51 414.31 Q165.51 418.037 167.339 420.213 Q169.19 422.365 172.339 422.365 Q175.487 422.365 177.315 420.213 Q179.167 418.037 179.167 414.31 Q179.167 410.56 177.315 408.407 Q175.487 406.254 172.339 406.254 M181.621 391.602 L181.621 395.861 Q179.862 395.027 178.056 394.588 Q176.274 394.148 174.514 394.148 Q169.885 394.148 167.431 397.273 Q165.001 400.398 164.653 406.717 Q166.019 404.703 168.079 403.639 Q170.139 402.551 172.616 402.551 Q177.825 402.551 180.834 405.722 Q183.866 408.87 183.866 414.31 Q183.866 419.634 180.718 422.851 Q177.57 426.069 172.339 426.069 Q166.343 426.069 163.172 421.486 Q160.001 416.879 160.001 408.152 Q160.001 399.958 163.89 395.097 Q167.778 390.213 174.329 390.213 Q176.089 390.213 177.871 390.56 Q179.676 390.907 181.621 391.602 Z\" fill=\"#000000\" fill-rule=\"nonzero\" fill-opacity=\"1\" /><path clip-path=\"url(#clip020)\" d=\"M126.783 68.5428 Q123.172 68.5428 121.343 72.1076 Q119.538 75.6493 119.538 82.7789 Q119.538 89.8853 121.343 93.4501 Q123.172 96.9917 126.783 96.9917 Q130.417 96.9917 132.223 93.4501 Q134.052 89.8853 134.052 82.7789 Q134.052 75.6493 132.223 72.1076 Q130.417 68.5428 126.783 68.5428 M126.783 64.8391 Q132.593 64.8391 135.649 69.4456 Q138.728 74.0289 138.728 82.7789 Q138.728 91.5057 135.649 96.1121 Q132.593 100.695 126.783 100.695 Q120.973 100.695 117.894 96.1121 Q114.839 91.5057 114.839 82.7789 Q114.839 74.0289 117.894 69.4456 Q120.973 64.8391 126.783 64.8391 Z\" fill=\"#000000\" fill-rule=\"nonzero\" fill-opacity=\"1\" /><path clip-path=\"url(#clip020)\" d=\"M146.945 94.1445 L151.829 94.1445 L151.829 100.024 L146.945 100.024 L146.945 94.1445 Z\" fill=\"#000000\" fill-rule=\"nonzero\" fill-opacity=\"1\" /><path clip-path=\"url(#clip020)\" d=\"M172.014 83.6122 Q168.681 83.6122 166.76 85.3946 Q164.862 87.177 164.862 90.302 Q164.862 93.4269 166.76 95.2093 Q168.681 96.9917 172.014 96.9917 Q175.348 96.9917 177.269 95.2093 Q179.19 93.4038 179.19 90.302 Q179.19 87.177 177.269 85.3946 Q175.371 83.6122 172.014 83.6122 M167.339 81.6215 Q164.329 80.8807 162.64 78.8205 Q160.973 76.7604 160.973 73.7974 Q160.973 69.6539 163.913 67.2465 Q166.876 64.8391 172.014 64.8391 Q177.176 64.8391 180.116 67.2465 Q183.056 69.6539 183.056 73.7974 Q183.056 76.7604 181.366 78.8205 Q179.7 80.8807 176.714 81.6215 Q180.093 82.4085 181.968 84.7001 Q183.866 86.9918 183.866 90.302 Q183.866 95.3251 180.788 98.0103 Q177.732 100.695 172.014 100.695 Q166.297 100.695 163.218 98.0103 Q160.163 95.3251 160.163 90.302 Q160.163 86.9918 162.061 84.7001 Q163.959 82.4085 167.339 81.6215 M165.626 74.2372 Q165.626 76.9224 167.292 78.427 Q168.982 79.9316 172.014 79.9316 Q175.024 79.9316 176.714 78.427 Q178.426 76.9224 178.426 74.2372 Q178.426 71.5521 176.714 70.0474 Q175.024 68.5428 172.014 68.5428 Q168.982 68.5428 167.292 70.0474 Q165.626 71.5521 165.626 74.2372 Z\" fill=\"#000000\" fill-rule=\"nonzero\" fill-opacity=\"1\" /><path clip-path=\"url(#clip020)\" d=\"M58.657 788.97 L77.5631 788.97 L77.5631 794.859 L28.3562 794.859 L28.3562 788.97 L33.7671 788.97 Q30.5842 787.124 29.0564 784.323 Q27.4968 781.491 27.4968 777.576 Q27.4968 771.083 32.6531 767.041 Q37.8093 762.966 46.212 762.966 Q54.6147 762.966 59.771 767.041 Q64.9272 771.083 64.9272 777.576 Q64.9272 781.491 63.3994 784.323 Q61.8398 787.124 58.657 788.97 M46.212 769.046 Q39.7508 769.046 36.0905 771.719 Q32.3984 774.361 32.3984 779.008 Q32.3984 783.655 36.0905 786.329 Q39.7508 788.97 46.212 788.97 Q52.6732 788.97 56.3653 786.329 Q60.0256 783.655 60.0256 779.008 Q60.0256 774.361 56.3653 771.719 Q52.6732 769.046 46.212 769.046 Z\" fill=\"#000000\" fill-rule=\"nonzero\" fill-opacity=\"1\" /><path clip-path=\"url(#clip020)\" d=\"M14.5426 739.191 Q21.8632 743.456 29.0246 745.524 Q36.186 747.593 43.5384 747.593 Q50.8908 747.593 58.1159 745.524 Q65.3091 743.424 72.5979 739.191 L72.5979 744.283 Q65.1182 749.057 57.8931 751.445 Q50.668 753.8 43.5384 753.8 Q36.4406 753.8 29.2474 751.445 Q22.0542 749.089 14.5426 744.283 L14.5426 739.191 Z\" fill=\"#000000\" fill-rule=\"nonzero\" fill-opacity=\"1\" /><path clip-path=\"url(#clip020)\" d=\"M28.3562 698.195 L45.7028 711.086 L64.0042 697.527 L64.0042 704.434 L49.9996 714.81 L64.0042 725.186 L64.0042 732.093 L45.3526 718.247 L28.3562 730.915 L28.3562 724.008 L41.0558 714.555 L28.3562 705.102 L28.3562 698.195 Z\" fill=\"#000000\" fill-rule=\"nonzero\" fill-opacity=\"1\" /><path clip-path=\"url(#clip020)\" d=\"M14.5426 690.175 L14.5426 685.082 Q22.0542 680.308 29.2474 677.952 Q36.4406 675.565 43.5384 675.565 Q50.668 675.565 57.8931 677.952 Q65.1182 680.308 72.5979 685.082 L72.5979 690.175 Q65.3091 685.941 58.1159 683.873 Q50.8908 681.772 43.5384 681.772 Q36.186 681.772 29.0246 683.873 Q21.8632 685.941 14.5426 690.175 Z\" fill=\"#000000\" fill-rule=\"nonzero\" fill-opacity=\"1\" /><polyline clip-path=\"url(#clip022)\" style=\"stroke:#ff0000; stroke-linecap:round; stroke-linejoin:round; stroke-width:20; stroke-opacity:1; fill:none\" stroke-dasharray=\"80, 50\" points=\"280.231,1384.24 300.556,1384.24 320.881,1384.24 341.206,1384.24 361.53,1384.24 381.855,1384.24 402.18,1384.24 422.505,1384.24 442.83,1384.24 463.155,1384.24 483.48,1384.24 503.804,1384.24 524.129,1384.24 544.454,1384.24 564.779,1384.24 585.104,1384.24 605.429,1384.24 625.753,1384.24 646.078,1384.24 666.403,1384.24 686.728,1384.24 707.053,1384.24 727.378,1384.24 747.703,1384.24 768.027,1384.24 788.352,1384.23 808.677,1384.23 829.002,1384.22 849.327,1384.21 869.652,1384.18 889.977,1384.14 910.301,1384.08 930.626,1383.97 950.951,1383.8 971.276,1383.54 991.601,1383.12 1011.93,1382.49 1032.25,1381.55 1052.58,1380.15 1072.9,1378.11 1093.23,1375.19 1113.55,1371.08 1133.87,1365.38 1154.2,1357.6 1174.52,1347.16 1194.85,1333.38 1215.17,1315.51 1235.5,1292.71 1255.82,1264.12 1276.15,1228.91 1296.47,1186.29 1316.8,1135.67 1337.12,1076.65 1357.45,1009.17 1377.77,933.553 1398.1,850.593 1418.42,761.578 1438.75,668.311 1459.07,573.079 1479.4,478.584 1499.72,387.829 1520.05,303.969 1540.37,230.132 1560.7,169.232 1581.02,123.774 1601.35,95.6865 1621.67,86.1857 1642,95.6865 1662.32,123.774 1682.65,169.232 1702.97,230.132 1723.3,303.969 1743.62,387.829 1763.95,478.584 1784.27,573.079 1804.59,668.311 1824.92,761.578 1845.24,850.593 1865.57,933.553 1885.89,1009.17 1906.22,1076.65 1926.54,1135.67 1946.87,1186.29 1967.19,1228.91 1987.52,1264.12 2007.84,1292.71 2028.17,1315.51 2048.49,1333.38 2068.82,1347.16 2089.14,1357.6 2109.47,1365.38 2129.79,1371.08 2150.12,1375.19 2170.44,1378.11 2190.77,1380.15 2211.09,1381.55 2231.42,1382.49 2251.74,1383.12 2272.07,1383.54 2292.39,1383.8 \"/>\n",
       "<path clip-path=\"url(#clip020)\" d=\"M1994.9 196.789 L2281.66 196.789 L2281.66 93.1086 L1994.9 93.1086  Z\" fill=\"#ffffff\" fill-rule=\"evenodd\" fill-opacity=\"1\"/>\n",
       "<polyline clip-path=\"url(#clip020)\" style=\"stroke:#000000; stroke-linecap:round; stroke-linejoin:round; stroke-width:4; stroke-opacity:1; fill:none\" points=\"1994.9,196.789 2281.66,196.789 2281.66,93.1086 1994.9,93.1086 1994.9,196.789 \"/>\n",
       "<polyline clip-path=\"url(#clip020)\" style=\"stroke:#ff0000; stroke-linecap:round; stroke-linejoin:round; stroke-width:20; stroke-opacity:1; fill:none\" stroke-dasharray=\"80, 50\" points=\"2018.6,144.949 2160.79,144.949 \"/>\n",
       "<path clip-path=\"url(#clip020)\" d=\"M2188.77 158.34 L2188.77 172.09 L2184.49 172.09 L2184.49 136.303 L2188.77 136.303 L2188.77 140.238 Q2190.11 137.923 2192.15 136.812 Q2194.21 135.678 2197.06 135.678 Q2201.78 135.678 2204.72 139.428 Q2207.68 143.178 2207.68 149.289 Q2207.68 155.4 2204.72 159.15 Q2201.78 162.9 2197.06 162.9 Q2194.21 162.9 2192.15 161.789 Q2190.11 160.655 2188.77 158.34 M2203.26 149.289 Q2203.26 144.59 2201.32 141.928 Q2199.4 139.243 2196.02 139.243 Q2192.64 139.243 2190.69 141.928 Q2188.77 144.59 2188.77 149.289 Q2188.77 153.988 2190.69 156.673 Q2192.64 159.335 2196.02 159.335 Q2199.4 159.335 2201.32 156.673 Q2203.26 153.988 2203.26 149.289 Z\" fill=\"#000000\" fill-rule=\"nonzero\" fill-opacity=\"1\" /><path clip-path=\"url(#clip020)\" d=\"M2231.8 140.238 L2231.8 126.21 L2236.06 126.21 L2236.06 162.229 L2231.8 162.229 L2231.8 158.34 Q2230.46 160.655 2228.4 161.789 Q2226.36 162.9 2223.49 162.9 Q2218.79 162.9 2215.83 159.15 Q2212.89 155.4 2212.89 149.289 Q2212.89 143.178 2215.83 139.428 Q2218.79 135.678 2223.49 135.678 Q2226.36 135.678 2228.4 136.812 Q2230.46 137.923 2231.8 140.238 M2217.29 149.289 Q2217.29 153.988 2219.21 156.673 Q2221.16 159.335 2224.54 159.335 Q2227.91 159.335 2229.86 156.673 Q2231.8 153.988 2231.8 149.289 Q2231.8 144.59 2229.86 141.928 Q2227.91 139.243 2224.54 139.243 Q2221.16 139.243 2219.21 141.928 Q2217.29 144.59 2217.29 149.289 Z\" fill=\"#000000\" fill-rule=\"nonzero\" fill-opacity=\"1\" /><path clip-path=\"url(#clip020)\" d=\"M2257.96 126.21 L2257.96 129.752 L2253.89 129.752 Q2251.6 129.752 2250.69 130.678 Q2249.81 131.604 2249.81 134.011 L2249.81 136.303 L2256.83 136.303 L2256.83 139.613 L2249.81 139.613 L2249.81 162.229 L2245.53 162.229 L2245.53 139.613 L2241.46 139.613 L2241.46 136.303 L2245.53 136.303 L2245.53 134.497 Q2245.53 130.169 2247.54 128.201 Q2249.56 126.21 2253.93 126.21 L2257.96 126.21 Z\" fill=\"#000000\" fill-rule=\"nonzero\" fill-opacity=\"1\" /></svg>\n"
      ]
     },
     "execution_count": 43,
     "metadata": {},
     "output_type": "execute_result"
    }
   ],
   "source": [
    "using Plots\n",
    "\n",
    "x = range(-3, stop=3, length=100)\n",
    "y = pdf.(px, x)\n",
    "plot(x, y, xlabel=\"x\", ylabel=\"p(x)\", label=\"pdf\", color=\"red\", linewidth=5, linestyle=:dash)"
   ]
  },
  {
   "cell_type": "markdown",
   "metadata": {
    "nbgrader": {
     "grade": false,
     "grade_id": "cell-60386ddc6157fdbb",
     "locked": true,
     "schema_version": 3,
     "solution": false,
     "task": false
    }
   },
   "source": [
    "## Macro's\n",
    "\n",
    "- References: [Macros](https://docs.julialang.org/en/v1/manual/metaprogramming/#man-macros)\n",
    "\n",
    "Words that start with the `@` symbol are \"macro\"'s in Julia, for example `@time, @test, @model`. They represent a series of functions called on an input structure and are really handy when you have to use the same set of instructions often. \n",
    "\n",
    "For example, you could define a `ProgressMeter` bar, update it at every iteration of a for-loop and write a custom print statement every time. _Or_, you could call the `@showprogress` macro on the for-loop itself:"
   ]
  },
  {
   "cell_type": "code",
   "execution_count": 44,
   "metadata": {},
   "outputs": [
    {
     "name": "stderr",
     "output_type": "stream",
     "text": [
      "\u001b[32mProgress: 100%|█████████████████████████████████████████| Time: 0:00:02\u001b[39m\n"
     ]
    }
   ],
   "source": [
    "using ProgressMeter\n",
    "\n",
    "@showprogress for n in 1:10\n",
    "    sleep(0.1)\n",
    "end"
   ]
  },
  {
   "cell_type": "markdown",
   "metadata": {
    "nbgrader": {
     "grade": false,
     "grade_id": "cell-76339cb21a5934f5",
     "locked": true,
     "schema_version": 3,
     "solution": false,
     "task": false
    }
   },
   "source": [
    "Macro's are a somewhat advanced form of metaprogramming. You will not need to define any new macro's; this instruction is just here to explain what they are."
   ]
  }
 ],
 "metadata": {
  "celltoolbar": "Raw Cell Format",
  "kernelspec": {
   "display_name": "Julia 1.9.3",
   "language": "julia",
   "name": "julia-1.8"
  },
  "language_info": {
   "file_extension": ".jl",
   "mimetype": "application/julia",
   "name": "julia",
   "version": "1.9.3"
  }
 },
 "nbformat": 4,
 "nbformat_minor": 4
}
